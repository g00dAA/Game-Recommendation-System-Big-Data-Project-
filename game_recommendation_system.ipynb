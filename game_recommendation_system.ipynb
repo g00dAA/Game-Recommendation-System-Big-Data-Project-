{
  "metadata": {
    "kernelspec": {
      "language": "python",
      "display_name": "Python 3",
      "name": "python3"
    },
    "language_info": {
      "name": "python",
      "version": "3.10.12",
      "mimetype": "text/x-python",
      "codemirror_mode": {
        "name": "ipython",
        "version": 3
      },
      "pygments_lexer": "ipython3",
      "nbconvert_exporter": "python",
      "file_extension": ".py"
    },
    "kaggle": {
      "accelerator": "none",
      "dataSources": [
        {
          "sourceId": 7192428,
          "sourceType": "datasetVersion",
          "datasetId": 2871694
        }
      ],
      "dockerImageVersionId": 30626,
      "isInternetEnabled": false,
      "language": "python",
      "sourceType": "notebook",
      "isGpuEnabled": false
    },
    "colab": {
      "provenance": [],
      "toc_visible": true,
      "include_colab_link": true
    }
  },
  "nbformat_minor": 0,
  "nbformat": 4,
  "cells": [
    {
      "cell_type": "markdown",
      "metadata": {
        "id": "view-in-github",
        "colab_type": "text"
      },
      "source": [
        "<a href=\"https://colab.research.google.com/github/g00dAA/Game-Recommendation-System-Big-Data-Project-/blob/main/game_recommendation_system.ipynb\" target=\"_parent\"><img src=\"https://colab.research.google.com/assets/colab-badge.svg\" alt=\"Open In Colab\"/></a>"
      ]
    },
    {
      "cell_type": "code",
      "source": [
        "# This Python 3 environment comes with many helpful analytics libraries installed\n",
        "# It is defined by the kaggle/python Docker image: https://github.com/kaggle/docker-python\n",
        "# For example, here's several helpful packages to load\n",
        "\n",
        "import numpy as np # linear algebra\n",
        "import pandas as pd # data processing, CSV file I/O (e.g. pd.read_csv)\n",
        "\n",
        "# Input data files are available in the read-only \"../input/\" directory\n",
        "# For example, running this (by clicking run or pressing Shift+Enter) will list all files under the input directory\n",
        "\n",
        "import os\n",
        "for dirname, _, filenames in os.walk('/kaggle/input'):\n",
        "    for filename in filenames:\n",
        "        print(os.path.join(dirname, filename))\n",
        "\n",
        "# You can write up to 20GB to the current directory (/kaggle/working/) that gets preserved as output when you create a version using \"Save & Run All\"\n",
        "# You can also write temporary files to /kaggle/temp/, but they won't be saved outside of the current session"
      ],
      "metadata": {
        "_uuid": "8f2839f25d086af736a60e9eeb907d3b93b6e0e5",
        "_cell_guid": "b1076dfc-b9ad-4769-8c92-a6c4dae69d19",
        "execution": {
          "iopub.status.busy": "2024-01-05T18:47:22.145940Z",
          "iopub.execute_input": "2024-01-05T18:47:22.146380Z",
          "iopub.status.idle": "2024-01-05T18:47:22.164735Z",
          "shell.execute_reply.started": "2024-01-05T18:47:22.146347Z",
          "shell.execute_reply": "2024-01-05T18:47:22.163184Z"
        },
        "trusted": true,
        "id": "FHEXWYQ9_P5m"
      },
      "execution_count": null,
      "outputs": []
    },
    {
      "cell_type": "markdown",
      "source": [
        "# Introduction\n",
        "\n",
        "**Exploratory Data Analysis and Game Recommendation System on Steam Store Dataset\n",
        "**\n",
        "\n",
        "The dataset used in this notebook comprises a rich collection of over 41 million user recommendations and detailed information about games and add-ons available on the Steam Store. Steam, a leading online platform for purchasing and downloading video games, provides a diverse range of gaming-related content. The dataset is divided into three main entities:\n",
        "\n",
        "\n",
        "<img src=\"https://miro.medium.com/v2/resize:fit:4800/format:webp/1*KruicYPp0frLCK0htff59g.png\" width = 400px align=\"right\"/>\n",
        "\n",
        "\n",
        "\n",
        "![steam-logo-download-compress.gif](attachment:c9636e66-bc80-4387-a034-1b98c0a85790.gif)\n",
        "\n",
        "*[Steam artwork](https://steamcommunity.com/sharedfiles/filedetails/?id=1433659453) by [GeneralDotV2](https://steamcommunity.com/id/GeneralDotV2)*"
      ],
      "metadata": {
        "id": "EkQwor8I_P5u"
      }
    },
    {
      "cell_type": "markdown",
      "source": [
        "# 1.0 Imports"
      ],
      "metadata": {
        "id": "lebZpl9E_P5w"
      }
    },
    {
      "cell_type": "code",
      "source": [
        "!pip install pyspark"
      ],
      "metadata": {
        "execution": {
          "iopub.status.busy": "2024-01-05T18:47:22.166976Z",
          "iopub.execute_input": "2024-01-05T18:47:22.167373Z",
          "iopub.status.idle": "2024-01-05T18:49:52.046884Z",
          "shell.execute_reply.started": "2024-01-05T18:47:22.167338Z",
          "shell.execute_reply": "2024-01-05T18:49:52.045403Z"
        },
        "trusted": true,
        "colab": {
          "base_uri": "https://localhost:8080/"
        },
        "id": "B8A0s4yT_P5x",
        "outputId": "621fa8b2-8217-4425-893e-c3081399741c"
      },
      "execution_count": null,
      "outputs": [
        {
          "output_type": "stream",
          "name": "stdout",
          "text": [
            "Requirement already satisfied: pyspark in /usr/local/lib/python3.10/dist-packages (3.5.0)\n",
            "Requirement already satisfied: py4j==0.10.9.7 in /usr/local/lib/python3.10/dist-packages (from pyspark) (0.10.9.7)\n"
          ]
        }
      ]
    },
    {
      "cell_type": "code",
      "source": [
        "from pyspark.sql import SparkSession\n",
        "from pyspark.ml.feature import VectorAssembler\n",
        "from pyspark.ml.classification import LogisticRegression\n",
        "from pyspark.ml import Pipeline\n",
        "from pyspark.ml.evaluation import BinaryClassificationEvaluator\n",
        "import matplotlib.pyplot as plt\n",
        "from pyspark.sql.functions import explode, split, col\n",
        "import plotly.express as px\n",
        "from pyspark.sql.functions import count, col\n",
        "from pyspark.sql.functions import col, length\n",
        "from pyspark.sql.functions import col, explode, split, avg\n",
        "import seaborn as sns\n",
        "from pyspark.sql.functions import col, year\n",
        "from pyspark.sql.functions import col, year, to_date\n",
        "import matplotlib.pyplot as plt\n",
        "from pyspark.sql.functions import desc\n",
        "from pyspark.sql.functions import col, log\n",
        "from pyspark.sql.functions import corr\n",
        "import pandas as pd\n",
        "import numpy as np\n",
        "from pyspark.sql.functions import col, explode, when\n",
        "from pyspark.ml.feature import StringIndexer, OneHotEncoder, VectorAssembler\n",
        "from pyspark.ml import Pipeline\n",
        "from pyspark.sql.functions import unix_timestamp, col\n",
        "from pyspark.ml.feature import OneHotEncoder, StringIndexer"
      ],
      "metadata": {
        "execution": {
          "iopub.status.busy": "2024-01-05T18:49:52.048927Z",
          "iopub.execute_input": "2024-01-05T18:49:52.049430Z",
          "iopub.status.idle": "2024-01-05T18:49:52.100226Z",
          "shell.execute_reply.started": "2024-01-05T18:49:52.049393Z",
          "shell.execute_reply": "2024-01-05T18:49:52.094052Z"
        },
        "trusted": true,
        "id": "p5TkOjks_P5y"
      },
      "execution_count": null,
      "outputs": []
    },
    {
      "cell_type": "markdown",
      "source": [
        "# 2.0 Read dataset"
      ],
      "metadata": {
        "id": "GXjlNeMo_P5z"
      }
    },
    {
      "cell_type": "code",
      "source": [
        "spark = SparkSession.builder.appName(\"AnimeAnalysis\").getOrCreate()"
      ],
      "metadata": {
        "execution": {
          "iopub.status.busy": "2024-01-05T18:49:52.101665Z",
          "iopub.status.idle": "2024-01-05T18:49:52.102144Z",
          "shell.execute_reply.started": "2024-01-05T18:49:52.101931Z",
          "shell.execute_reply": "2024-01-05T18:49:52.101954Z"
        },
        "trusted": true,
        "id": "20ay_B-C_P5z"
      },
      "execution_count": null,
      "outputs": []
    },
    {
      "cell_type": "code",
      "source": [
        "! pip install -q kaggle\n",
        "from google.colab import files\n",
        "files.upload()\n",
        "!mkdir ~/.kaggle\n",
        "!cp kaggle.json ~/.kaggle/\n",
        "!chmod 600 ~/.kaggle/kaggle.json\n",
        "! kaggle datasets list\n",
        "!kaggle datasets download -d antonkozyriev/game-recommendations-on-steam\n",
        "! mkdir comp_data\n",
        "! unzip /content/game-recommendations-on-steam.zip -d comp_data"
      ],
      "metadata": {
        "colab": {
          "base_uri": "https://localhost:8080/",
          "height": 541
        },
        "id": "F6VCmfe4_sU8",
        "outputId": "d1ea27a2-55c7-40e1-a073-31a47a52a6a8"
      },
      "execution_count": null,
      "outputs": [
        {
          "output_type": "display_data",
          "data": {
            "text/plain": [
              "<IPython.core.display.HTML object>"
            ],
            "text/html": [
              "\n",
              "     <input type=\"file\" id=\"files-4370cdaf-e2e3-45fa-8489-263b6a99db9f\" name=\"files[]\" multiple disabled\n",
              "        style=\"border:none\" />\n",
              "     <output id=\"result-4370cdaf-e2e3-45fa-8489-263b6a99db9f\">\n",
              "      Upload widget is only available when the cell has been executed in the\n",
              "      current browser session. Please rerun this cell to enable.\n",
              "      </output>\n",
              "      <script>// Copyright 2017 Google LLC\n",
              "//\n",
              "// Licensed under the Apache License, Version 2.0 (the \"License\");\n",
              "// you may not use this file except in compliance with the License.\n",
              "// You may obtain a copy of the License at\n",
              "//\n",
              "//      http://www.apache.org/licenses/LICENSE-2.0\n",
              "//\n",
              "// Unless required by applicable law or agreed to in writing, software\n",
              "// distributed under the License is distributed on an \"AS IS\" BASIS,\n",
              "// WITHOUT WARRANTIES OR CONDITIONS OF ANY KIND, either express or implied.\n",
              "// See the License for the specific language governing permissions and\n",
              "// limitations under the License.\n",
              "\n",
              "/**\n",
              " * @fileoverview Helpers for google.colab Python module.\n",
              " */\n",
              "(function(scope) {\n",
              "function span(text, styleAttributes = {}) {\n",
              "  const element = document.createElement('span');\n",
              "  element.textContent = text;\n",
              "  for (const key of Object.keys(styleAttributes)) {\n",
              "    element.style[key] = styleAttributes[key];\n",
              "  }\n",
              "  return element;\n",
              "}\n",
              "\n",
              "// Max number of bytes which will be uploaded at a time.\n",
              "const MAX_PAYLOAD_SIZE = 100 * 1024;\n",
              "\n",
              "function _uploadFiles(inputId, outputId) {\n",
              "  const steps = uploadFilesStep(inputId, outputId);\n",
              "  const outputElement = document.getElementById(outputId);\n",
              "  // Cache steps on the outputElement to make it available for the next call\n",
              "  // to uploadFilesContinue from Python.\n",
              "  outputElement.steps = steps;\n",
              "\n",
              "  return _uploadFilesContinue(outputId);\n",
              "}\n",
              "\n",
              "// This is roughly an async generator (not supported in the browser yet),\n",
              "// where there are multiple asynchronous steps and the Python side is going\n",
              "// to poll for completion of each step.\n",
              "// This uses a Promise to block the python side on completion of each step,\n",
              "// then passes the result of the previous step as the input to the next step.\n",
              "function _uploadFilesContinue(outputId) {\n",
              "  const outputElement = document.getElementById(outputId);\n",
              "  const steps = outputElement.steps;\n",
              "\n",
              "  const next = steps.next(outputElement.lastPromiseValue);\n",
              "  return Promise.resolve(next.value.promise).then((value) => {\n",
              "    // Cache the last promise value to make it available to the next\n",
              "    // step of the generator.\n",
              "    outputElement.lastPromiseValue = value;\n",
              "    return next.value.response;\n",
              "  });\n",
              "}\n",
              "\n",
              "/**\n",
              " * Generator function which is called between each async step of the upload\n",
              " * process.\n",
              " * @param {string} inputId Element ID of the input file picker element.\n",
              " * @param {string} outputId Element ID of the output display.\n",
              " * @return {!Iterable<!Object>} Iterable of next steps.\n",
              " */\n",
              "function* uploadFilesStep(inputId, outputId) {\n",
              "  const inputElement = document.getElementById(inputId);\n",
              "  inputElement.disabled = false;\n",
              "\n",
              "  const outputElement = document.getElementById(outputId);\n",
              "  outputElement.innerHTML = '';\n",
              "\n",
              "  const pickedPromise = new Promise((resolve) => {\n",
              "    inputElement.addEventListener('change', (e) => {\n",
              "      resolve(e.target.files);\n",
              "    });\n",
              "  });\n",
              "\n",
              "  const cancel = document.createElement('button');\n",
              "  inputElement.parentElement.appendChild(cancel);\n",
              "  cancel.textContent = 'Cancel upload';\n",
              "  const cancelPromise = new Promise((resolve) => {\n",
              "    cancel.onclick = () => {\n",
              "      resolve(null);\n",
              "    };\n",
              "  });\n",
              "\n",
              "  // Wait for the user to pick the files.\n",
              "  const files = yield {\n",
              "    promise: Promise.race([pickedPromise, cancelPromise]),\n",
              "    response: {\n",
              "      action: 'starting',\n",
              "    }\n",
              "  };\n",
              "\n",
              "  cancel.remove();\n",
              "\n",
              "  // Disable the input element since further picks are not allowed.\n",
              "  inputElement.disabled = true;\n",
              "\n",
              "  if (!files) {\n",
              "    return {\n",
              "      response: {\n",
              "        action: 'complete',\n",
              "      }\n",
              "    };\n",
              "  }\n",
              "\n",
              "  for (const file of files) {\n",
              "    const li = document.createElement('li');\n",
              "    li.append(span(file.name, {fontWeight: 'bold'}));\n",
              "    li.append(span(\n",
              "        `(${file.type || 'n/a'}) - ${file.size} bytes, ` +\n",
              "        `last modified: ${\n",
              "            file.lastModifiedDate ? file.lastModifiedDate.toLocaleDateString() :\n",
              "                                    'n/a'} - `));\n",
              "    const percent = span('0% done');\n",
              "    li.appendChild(percent);\n",
              "\n",
              "    outputElement.appendChild(li);\n",
              "\n",
              "    const fileDataPromise = new Promise((resolve) => {\n",
              "      const reader = new FileReader();\n",
              "      reader.onload = (e) => {\n",
              "        resolve(e.target.result);\n",
              "      };\n",
              "      reader.readAsArrayBuffer(file);\n",
              "    });\n",
              "    // Wait for the data to be ready.\n",
              "    let fileData = yield {\n",
              "      promise: fileDataPromise,\n",
              "      response: {\n",
              "        action: 'continue',\n",
              "      }\n",
              "    };\n",
              "\n",
              "    // Use a chunked sending to avoid message size limits. See b/62115660.\n",
              "    let position = 0;\n",
              "    do {\n",
              "      const length = Math.min(fileData.byteLength - position, MAX_PAYLOAD_SIZE);\n",
              "      const chunk = new Uint8Array(fileData, position, length);\n",
              "      position += length;\n",
              "\n",
              "      const base64 = btoa(String.fromCharCode.apply(null, chunk));\n",
              "      yield {\n",
              "        response: {\n",
              "          action: 'append',\n",
              "          file: file.name,\n",
              "          data: base64,\n",
              "        },\n",
              "      };\n",
              "\n",
              "      let percentDone = fileData.byteLength === 0 ?\n",
              "          100 :\n",
              "          Math.round((position / fileData.byteLength) * 100);\n",
              "      percent.textContent = `${percentDone}% done`;\n",
              "\n",
              "    } while (position < fileData.byteLength);\n",
              "  }\n",
              "\n",
              "  // All done.\n",
              "  yield {\n",
              "    response: {\n",
              "      action: 'complete',\n",
              "    }\n",
              "  };\n",
              "}\n",
              "\n",
              "scope.google = scope.google || {};\n",
              "scope.google.colab = scope.google.colab || {};\n",
              "scope.google.colab._files = {\n",
              "  _uploadFiles,\n",
              "  _uploadFilesContinue,\n",
              "};\n",
              "})(self);\n",
              "</script> "
            ]
          },
          "metadata": {}
        },
        {
          "output_type": "stream",
          "name": "stdout",
          "text": [
            "Saving kaggle.json to kaggle (1).json\n",
            "mkdir: cannot create directory ‘/root/.kaggle’: File exists\n",
            "ref                                                          title                                        size  lastUpdated          downloadCount  voteCount  usabilityRating  \n",
            "-----------------------------------------------------------  ------------------------------------------  -----  -------------------  -------------  ---------  ---------------  \n",
            "hummaamqaasim/jobs-in-data                                   Jobs and Salaries in Data Science            76KB  2023-12-25 20:03:32           1796         36  1.0              \n",
            "marouandaghmoumi/dropout-and-success-student-data-analysis   Dropout and Success: Student Data Analysis   87KB  2023-12-31 15:44:56           1352         34  1.0              \n",
            "thedrcat/daigt-v2-train-dataset                              DAIGT V2 Train Dataset                       29MB  2023-11-16 01:38:36           3460        280  1.0              \n",
            "risakashiwabara/netfllixrecommended-topic-for-long-vacation  😊📺 Netfllix data😊📺                            1KB  2023-12-26 03:13:21            863         24  1.0              \n",
            "samruddhi4040/online-sales-data                              Online Sales Data                            19KB  2023-12-17 06:49:04           1001         21  0.9411765        \n",
            "willianoliveiragibin/world-educational-data                  World Educational Data                        9KB  2024-01-03 20:05:16            600         22  1.0              \n",
            "willianoliveiragibin/road-accident-casualties                Road Accident Casualties                      7MB  2023-12-27 19:47:56            952         24  1.0              \n",
            "rafsunahmad/world-food-production                            World Food Production                       836KB  2023-12-20 15:22:07           1338         23  1.0              \n",
            "mubashirrahim/wind-power-generation-data-forecasting         Wind Power Generation Data - Forecasting      3MB  2024-01-04 10:15:00            524         23  1.0              \n",
            "henryshan/2023-data-scientists-salary                        2023 Data Scientists Salary                  25KB  2023-12-14 10:14:34           3151         72  1.0              \n",
            "muhammadbinimran/housing-price-prediction-data               Housing Price Prediction Data               763KB  2023-11-21 17:56:32          14211        243  1.0              \n",
            "henryshan/starbucks                                          Starbucks                                     5KB  2023-12-06 03:07:49           5528        108  1.0              \n",
            "shilpikulshrestha/books-sold-dataset                         Books Sold Dataset                          177KB  2023-12-24 15:41:45            652         22  1.0              \n",
            "willianoliveiragibin/salary-data-analist                     salary_data_analist                          26KB  2023-12-19 20:38:36           1115         30  1.0              \n",
            "thedrcat/daigt-v3-train-dataset                              daigt-v3-train-dataset                       83MB  2023-12-28 04:36:42            298         65  1.0              \n",
            "mustafakeser4/earthquakes-2023-global                        Earthquakes 2023 Global                       1MB  2023-12-30 01:00:05            726         23  0.9411765        \n",
            "thedevastator/online-retail-transaction-data                 Online Retail Transaction Data                9MB  2023-12-21 02:59:15           1239         26  0.7058824        \n",
            "jiteshkumarsahoo/wikipedia-country-statistics-2023           Wikipedia World Statistics 2023               9KB  2023-12-28 13:03:22            498         21  1.0              \n",
            "mmohaiminulislam/ecommerce-data-analysis                     ECommerce Data Analysis                      17MB  2024-01-01 02:04:35            862         23  1.0              \n",
            "henryshan/student-performance-prediction                     Student Performance Prediction               21KB  2023-12-27 13:23:44            889         34  1.0              \n",
            "game-recommendations-on-steam.zip: Skipping, found more recently modified local copy (use --force to force download)\n",
            "mkdir: cannot create directory ‘comp_data’: File exists\n",
            "Archive:  /content/game-recommendations-on-steam.zip\n",
            "replace comp_data/games.csv? [y]es, [n]o, [A]ll, [N]one, [r]ename: N\n"
          ]
        }
      ]
    },
    {
      "cell_type": "code",
      "source": [
        "recommendation_df = spark.read.csv(\"/content/comp_data/recommendations.csv\", header=True, inferSchema=True)\n",
        "users_df = spark.read.csv(\"/content/comp_data/users.csv\", header=True, inferSchema=True)\n",
        "games_df = spark.read.csv(\"/content/comp_data/games.csv\", header=True, inferSchema=True)"
      ],
      "metadata": {
        "execution": {
          "iopub.status.busy": "2024-01-05T18:49:52.103649Z",
          "iopub.status.idle": "2024-01-05T18:49:52.104181Z",
          "shell.execute_reply.started": "2024-01-05T18:49:52.103905Z",
          "shell.execute_reply": "2024-01-05T18:49:52.103934Z"
        },
        "trusted": true,
        "id": "xF50D7p-_P50"
      },
      "execution_count": null,
      "outputs": []
    },
    {
      "cell_type": "code",
      "source": [
        "json_file_path = \"/content/comp_data/games_metadata.json\"\n",
        "\n",
        "# Read the JSON file\n",
        "metadata_df = spark.read.json(json_file_path, multiLine=False)\n",
        "\n",
        "# Show the DataFrame schema to verify it's loaded correctly\n",
        "metadata_df.printSchema()"
      ],
      "metadata": {
        "execution": {
          "iopub.status.busy": "2024-01-05T18:49:52.106051Z",
          "iopub.status.idle": "2024-01-05T18:49:52.106634Z",
          "shell.execute_reply.started": "2024-01-05T18:49:52.106321Z",
          "shell.execute_reply": "2024-01-05T18:49:52.106348Z"
        },
        "trusted": true,
        "colab": {
          "base_uri": "https://localhost:8080/"
        },
        "id": "3KXqlN3T_P50",
        "outputId": "922be74e-c1b9-4676-dff5-966d769ed00f"
      },
      "execution_count": null,
      "outputs": [
        {
          "output_type": "stream",
          "name": "stdout",
          "text": [
            "root\n",
            " |-- app_id: long (nullable = true)\n",
            " |-- description: string (nullable = true)\n",
            " |-- tags: array (nullable = true)\n",
            " |    |-- element: string (containsNull = true)\n",
            "\n"
          ]
        }
      ]
    },
    {
      "cell_type": "code",
      "source": [
        "metadata_df.show(3)"
      ],
      "metadata": {
        "colab": {
          "base_uri": "https://localhost:8080/"
        },
        "id": "mi5cmABDL7x3",
        "outputId": "2d21e52b-55d8-45fd-fc06-e786c4ddc9be"
      },
      "execution_count": null,
      "outputs": [
        {
          "output_type": "stream",
          "name": "stdout",
          "text": [
            "+------+--------------------+--------------------+\n",
            "|app_id|         description|                tags|\n",
            "+------+--------------------+--------------------+\n",
            "| 13500|Enter the dark un...|[Action, Adventur...|\n",
            "| 22364|                    |            [Action]|\n",
            "|113020|Monaco: What's Yo...|[Co-op, Stealth, ...|\n",
            "+------+--------------------+--------------------+\n",
            "only showing top 3 rows\n",
            "\n"
          ]
        }
      ]
    },
    {
      "cell_type": "markdown",
      "source": [
        "# 3.0 Explore dataset"
      ],
      "metadata": {
        "id": "UD_UTio6_P51"
      }
    },
    {
      "cell_type": "code",
      "source": [
        "Directorio = '/content/comp_data/'\n",
        "\n",
        "games = pd.read_csv(Directorio + 'games.csv')\n",
        "reco = pd.read_csv(Directorio + 'recommendations.csv')\n",
        "metadata = pd.read_json(Directorio + 'games_metadata.json', lines=True)\n",
        "users = pd.read_csv(Directorio+'users.csv')\n",
        "def perc_na(df: pd.DataFrame) -> float:\n",
        "    \"\"\"Calculates a percentage of missing values in the dataframe.\"\"\"\n",
        "    return np.count_nonzero(df.isnull().values) / (df.shape[0] * df.shape[1]) * 100.0\n",
        "\n",
        "\n",
        "pd.DataFrame([\n",
        "    [\"Recommendations\", perc_na(reco)],\n",
        "    [\"Users\", perc_na(users)],\n",
        "    [\"Games\", perc_na(games)],\n",
        "    [\"Metadata\",perc_na(metadata)]\n",
        "], columns=[\"Dataframe\", \"% of missing values\"])"
      ],
      "metadata": {
        "execution": {
          "iopub.status.busy": "2024-01-05T18:49:52.108355Z",
          "iopub.status.idle": "2024-01-05T18:49:52.108926Z",
          "shell.execute_reply.started": "2024-01-05T18:49:52.108638Z",
          "shell.execute_reply": "2024-01-05T18:49:52.108664Z"
        },
        "trusted": true,
        "colab": {
          "base_uri": "https://localhost:8080/",
          "height": 175
        },
        "id": "k-Ekv3RK_P51",
        "outputId": "598e83a2-6bfc-4b80-87ca-acb3ebfb4eac"
      },
      "execution_count": null,
      "outputs": [
        {
          "output_type": "execute_result",
          "data": {
            "text/plain": [
              "         Dataframe  % of missing values\n",
              "0  Recommendations                  0.0\n",
              "1            Users                  0.0\n",
              "2            Games                  0.0\n",
              "3         Metadata                  0.0"
            ],
            "text/html": [
              "\n",
              "  <div id=\"df-4af77212-8c86-480e-95bf-b1e9f7d53a00\" class=\"colab-df-container\">\n",
              "    <div>\n",
              "<style scoped>\n",
              "    .dataframe tbody tr th:only-of-type {\n",
              "        vertical-align: middle;\n",
              "    }\n",
              "\n",
              "    .dataframe tbody tr th {\n",
              "        vertical-align: top;\n",
              "    }\n",
              "\n",
              "    .dataframe thead th {\n",
              "        text-align: right;\n",
              "    }\n",
              "</style>\n",
              "<table border=\"1\" class=\"dataframe\">\n",
              "  <thead>\n",
              "    <tr style=\"text-align: right;\">\n",
              "      <th></th>\n",
              "      <th>Dataframe</th>\n",
              "      <th>% of missing values</th>\n",
              "    </tr>\n",
              "  </thead>\n",
              "  <tbody>\n",
              "    <tr>\n",
              "      <th>0</th>\n",
              "      <td>Recommendations</td>\n",
              "      <td>0.0</td>\n",
              "    </tr>\n",
              "    <tr>\n",
              "      <th>1</th>\n",
              "      <td>Users</td>\n",
              "      <td>0.0</td>\n",
              "    </tr>\n",
              "    <tr>\n",
              "      <th>2</th>\n",
              "      <td>Games</td>\n",
              "      <td>0.0</td>\n",
              "    </tr>\n",
              "    <tr>\n",
              "      <th>3</th>\n",
              "      <td>Metadata</td>\n",
              "      <td>0.0</td>\n",
              "    </tr>\n",
              "  </tbody>\n",
              "</table>\n",
              "</div>\n",
              "    <div class=\"colab-df-buttons\">\n",
              "\n",
              "  <div class=\"colab-df-container\">\n",
              "    <button class=\"colab-df-convert\" onclick=\"convertToInteractive('df-4af77212-8c86-480e-95bf-b1e9f7d53a00')\"\n",
              "            title=\"Convert this dataframe to an interactive table.\"\n",
              "            style=\"display:none;\">\n",
              "\n",
              "  <svg xmlns=\"http://www.w3.org/2000/svg\" height=\"24px\" viewBox=\"0 -960 960 960\">\n",
              "    <path d=\"M120-120v-720h720v720H120Zm60-500h600v-160H180v160Zm220 220h160v-160H400v160Zm0 220h160v-160H400v160ZM180-400h160v-160H180v160Zm440 0h160v-160H620v160ZM180-180h160v-160H180v160Zm440 0h160v-160H620v160Z\"/>\n",
              "  </svg>\n",
              "    </button>\n",
              "\n",
              "  <style>\n",
              "    .colab-df-container {\n",
              "      display:flex;\n",
              "      gap: 12px;\n",
              "    }\n",
              "\n",
              "    .colab-df-convert {\n",
              "      background-color: #E8F0FE;\n",
              "      border: none;\n",
              "      border-radius: 50%;\n",
              "      cursor: pointer;\n",
              "      display: none;\n",
              "      fill: #1967D2;\n",
              "      height: 32px;\n",
              "      padding: 0 0 0 0;\n",
              "      width: 32px;\n",
              "    }\n",
              "\n",
              "    .colab-df-convert:hover {\n",
              "      background-color: #E2EBFA;\n",
              "      box-shadow: 0px 1px 2px rgba(60, 64, 67, 0.3), 0px 1px 3px 1px rgba(60, 64, 67, 0.15);\n",
              "      fill: #174EA6;\n",
              "    }\n",
              "\n",
              "    .colab-df-buttons div {\n",
              "      margin-bottom: 4px;\n",
              "    }\n",
              "\n",
              "    [theme=dark] .colab-df-convert {\n",
              "      background-color: #3B4455;\n",
              "      fill: #D2E3FC;\n",
              "    }\n",
              "\n",
              "    [theme=dark] .colab-df-convert:hover {\n",
              "      background-color: #434B5C;\n",
              "      box-shadow: 0px 1px 3px 1px rgba(0, 0, 0, 0.15);\n",
              "      filter: drop-shadow(0px 1px 2px rgba(0, 0, 0, 0.3));\n",
              "      fill: #FFFFFF;\n",
              "    }\n",
              "  </style>\n",
              "\n",
              "    <script>\n",
              "      const buttonEl =\n",
              "        document.querySelector('#df-4af77212-8c86-480e-95bf-b1e9f7d53a00 button.colab-df-convert');\n",
              "      buttonEl.style.display =\n",
              "        google.colab.kernel.accessAllowed ? 'block' : 'none';\n",
              "\n",
              "      async function convertToInteractive(key) {\n",
              "        const element = document.querySelector('#df-4af77212-8c86-480e-95bf-b1e9f7d53a00');\n",
              "        const dataTable =\n",
              "          await google.colab.kernel.invokeFunction('convertToInteractive',\n",
              "                                                    [key], {});\n",
              "        if (!dataTable) return;\n",
              "\n",
              "        const docLinkHtml = 'Like what you see? Visit the ' +\n",
              "          '<a target=\"_blank\" href=https://colab.research.google.com/notebooks/data_table.ipynb>data table notebook</a>'\n",
              "          + ' to learn more about interactive tables.';\n",
              "        element.innerHTML = '';\n",
              "        dataTable['output_type'] = 'display_data';\n",
              "        await google.colab.output.renderOutput(dataTable, element);\n",
              "        const docLink = document.createElement('div');\n",
              "        docLink.innerHTML = docLinkHtml;\n",
              "        element.appendChild(docLink);\n",
              "      }\n",
              "    </script>\n",
              "  </div>\n",
              "\n",
              "\n",
              "<div id=\"df-e6fdc3f8-2b02-4ff6-b7ee-1acf6b3fc519\">\n",
              "  <button class=\"colab-df-quickchart\" onclick=\"quickchart('df-e6fdc3f8-2b02-4ff6-b7ee-1acf6b3fc519')\"\n",
              "            title=\"Suggest charts\"\n",
              "            style=\"display:none;\">\n",
              "\n",
              "<svg xmlns=\"http://www.w3.org/2000/svg\" height=\"24px\"viewBox=\"0 0 24 24\"\n",
              "     width=\"24px\">\n",
              "    <g>\n",
              "        <path d=\"M19 3H5c-1.1 0-2 .9-2 2v14c0 1.1.9 2 2 2h14c1.1 0 2-.9 2-2V5c0-1.1-.9-2-2-2zM9 17H7v-7h2v7zm4 0h-2V7h2v10zm4 0h-2v-4h2v4z\"/>\n",
              "    </g>\n",
              "</svg>\n",
              "  </button>\n",
              "\n",
              "<style>\n",
              "  .colab-df-quickchart {\n",
              "      --bg-color: #E8F0FE;\n",
              "      --fill-color: #1967D2;\n",
              "      --hover-bg-color: #E2EBFA;\n",
              "      --hover-fill-color: #174EA6;\n",
              "      --disabled-fill-color: #AAA;\n",
              "      --disabled-bg-color: #DDD;\n",
              "  }\n",
              "\n",
              "  [theme=dark] .colab-df-quickchart {\n",
              "      --bg-color: #3B4455;\n",
              "      --fill-color: #D2E3FC;\n",
              "      --hover-bg-color: #434B5C;\n",
              "      --hover-fill-color: #FFFFFF;\n",
              "      --disabled-bg-color: #3B4455;\n",
              "      --disabled-fill-color: #666;\n",
              "  }\n",
              "\n",
              "  .colab-df-quickchart {\n",
              "    background-color: var(--bg-color);\n",
              "    border: none;\n",
              "    border-radius: 50%;\n",
              "    cursor: pointer;\n",
              "    display: none;\n",
              "    fill: var(--fill-color);\n",
              "    height: 32px;\n",
              "    padding: 0;\n",
              "    width: 32px;\n",
              "  }\n",
              "\n",
              "  .colab-df-quickchart:hover {\n",
              "    background-color: var(--hover-bg-color);\n",
              "    box-shadow: 0 1px 2px rgba(60, 64, 67, 0.3), 0 1px 3px 1px rgba(60, 64, 67, 0.15);\n",
              "    fill: var(--button-hover-fill-color);\n",
              "  }\n",
              "\n",
              "  .colab-df-quickchart-complete:disabled,\n",
              "  .colab-df-quickchart-complete:disabled:hover {\n",
              "    background-color: var(--disabled-bg-color);\n",
              "    fill: var(--disabled-fill-color);\n",
              "    box-shadow: none;\n",
              "  }\n",
              "\n",
              "  .colab-df-spinner {\n",
              "    border: 2px solid var(--fill-color);\n",
              "    border-color: transparent;\n",
              "    border-bottom-color: var(--fill-color);\n",
              "    animation:\n",
              "      spin 1s steps(1) infinite;\n",
              "  }\n",
              "\n",
              "  @keyframes spin {\n",
              "    0% {\n",
              "      border-color: transparent;\n",
              "      border-bottom-color: var(--fill-color);\n",
              "      border-left-color: var(--fill-color);\n",
              "    }\n",
              "    20% {\n",
              "      border-color: transparent;\n",
              "      border-left-color: var(--fill-color);\n",
              "      border-top-color: var(--fill-color);\n",
              "    }\n",
              "    30% {\n",
              "      border-color: transparent;\n",
              "      border-left-color: var(--fill-color);\n",
              "      border-top-color: var(--fill-color);\n",
              "      border-right-color: var(--fill-color);\n",
              "    }\n",
              "    40% {\n",
              "      border-color: transparent;\n",
              "      border-right-color: var(--fill-color);\n",
              "      border-top-color: var(--fill-color);\n",
              "    }\n",
              "    60% {\n",
              "      border-color: transparent;\n",
              "      border-right-color: var(--fill-color);\n",
              "    }\n",
              "    80% {\n",
              "      border-color: transparent;\n",
              "      border-right-color: var(--fill-color);\n",
              "      border-bottom-color: var(--fill-color);\n",
              "    }\n",
              "    90% {\n",
              "      border-color: transparent;\n",
              "      border-bottom-color: var(--fill-color);\n",
              "    }\n",
              "  }\n",
              "</style>\n",
              "\n",
              "  <script>\n",
              "    async function quickchart(key) {\n",
              "      const quickchartButtonEl =\n",
              "        document.querySelector('#' + key + ' button');\n",
              "      quickchartButtonEl.disabled = true;  // To prevent multiple clicks.\n",
              "      quickchartButtonEl.classList.add('colab-df-spinner');\n",
              "      try {\n",
              "        const charts = await google.colab.kernel.invokeFunction(\n",
              "            'suggestCharts', [key], {});\n",
              "      } catch (error) {\n",
              "        console.error('Error during call to suggestCharts:', error);\n",
              "      }\n",
              "      quickchartButtonEl.classList.remove('colab-df-spinner');\n",
              "      quickchartButtonEl.classList.add('colab-df-quickchart-complete');\n",
              "    }\n",
              "    (() => {\n",
              "      let quickchartButtonEl =\n",
              "        document.querySelector('#df-e6fdc3f8-2b02-4ff6-b7ee-1acf6b3fc519 button');\n",
              "      quickchartButtonEl.style.display =\n",
              "        google.colab.kernel.accessAllowed ? 'block' : 'none';\n",
              "    })();\n",
              "  </script>\n",
              "</div>\n",
              "    </div>\n",
              "  </div>\n"
            ]
          },
          "metadata": {},
          "execution_count": 9
        }
      ]
    },
    {
      "cell_type": "code",
      "source": [
        "metadata_df.show()"
      ],
      "metadata": {
        "execution": {
          "iopub.status.busy": "2024-01-05T18:49:52.110500Z",
          "iopub.status.idle": "2024-01-05T18:49:52.111085Z",
          "shell.execute_reply.started": "2024-01-05T18:49:52.110795Z",
          "shell.execute_reply": "2024-01-05T18:49:52.110821Z"
        },
        "trusted": true,
        "colab": {
          "base_uri": "https://localhost:8080/"
        },
        "id": "5J22aJZj_P52",
        "outputId": "8b4b559e-93d7-4408-d220-257f2fca9a91"
      },
      "execution_count": null,
      "outputs": [
        {
          "output_type": "stream",
          "name": "stdout",
          "text": [
            "+------+--------------------+--------------------+\n",
            "|app_id|         description|                tags|\n",
            "+------+--------------------+--------------------+\n",
            "| 13500|Enter the dark un...|[Action, Adventur...|\n",
            "| 22364|                    |            [Action]|\n",
            "|113020|Monaco: What's Yo...|[Co-op, Stealth, ...|\n",
            "|226560|Escape Dead Islan...|[Zombies, Adventu...|\n",
            "|249050|Dungeon of the En...|[Roguelike, Strat...|\n",
            "|250180|“METAL SLUG 3”, t...|[Arcade, Classic,...|\n",
            "|253980|Experience incred...|[RPG, Action, Fan...|\n",
            "|271850|                    |[Strategy, Simula...|\n",
            "|282900|Packed with fast-...|[Anime, JRPG, Fem...|\n",
            "| 19810|Lead a team of do...|  [Action, Tactical]|\n",
            "| 15270|In a ferocious Ar...|[Horror, Action, ...|\n",
            "| 21130|Build the adventu...|[LEGO, Adventure,...|\n",
            "| 22130|Includes Hearts o...|[Strategy, Grand ...|\n",
            "| 29180|Enter the ambient...|[Indie, Casual, P...|\n",
            "| 32750|The best-selling ...|[Action, Simulati...|\n",
            "|241620|Action-oriented c...|[RPG, Indie, Isom...|\n",
            "|408520|Enter a surreal a...|[Adventure, Indie...|\n",
            "|244910|Explore an abando...|[Atmospheric, Puz...|\n",
            "|245950|                    |[Action, RPG, FPS...|\n",
            "|250460|Become an apprais...|[Simulation, Casu...|\n",
            "+------+--------------------+--------------------+\n",
            "only showing top 20 rows\n",
            "\n"
          ]
        }
      ]
    },
    {
      "cell_type": "markdown",
      "source": [
        "## 3.1 games df"
      ],
      "metadata": {
        "id": "Il9eqAiX_P52"
      }
    },
    {
      "cell_type": "code",
      "source": [
        "games_df.show()"
      ],
      "metadata": {
        "execution": {
          "iopub.status.busy": "2024-01-05T18:49:52.113032Z",
          "iopub.status.idle": "2024-01-05T18:49:52.113602Z",
          "shell.execute_reply.started": "2024-01-05T18:49:52.113301Z",
          "shell.execute_reply": "2024-01-05T18:49:52.113330Z"
        },
        "trusted": true,
        "colab": {
          "base_uri": "https://localhost:8080/"
        },
        "id": "3ARVZbDT_P52",
        "outputId": "13c121e8-a8c1-4804-d232-e96102f0f6f4"
      },
      "execution_count": null,
      "outputs": [
        {
          "output_type": "stream",
          "name": "stdout",
          "text": [
            "+------+--------------------+------------+----+-----+-----+---------------+--------------+------------+-----------+--------------+--------+----------+\n",
            "|app_id|               title|date_release| win|  mac|linux|         rating|positive_ratio|user_reviews|price_final|price_original|discount|steam_deck|\n",
            "+------+--------------------+------------+----+-----+-----+---------------+--------------+------------+-----------+--------------+--------+----------+\n",
            "| 13500|Prince of Persia:...|  2008-11-21|true|false|false|  Very Positive|            84|        2199|       9.99|          9.99|     0.0|      true|\n",
            "| 22364|BRINK: Agents of ...|  2011-08-03|true|false|false|       Positive|            85|          21|       2.99|          2.99|     0.0|      true|\n",
            "|113020|Monaco: What's Yo...|  2013-04-24|true| true| true|  Very Positive|            92|        3722|      14.99|         14.99|     0.0|      true|\n",
            "|226560|  Escape Dead Island|  2014-11-18|true|false|false|          Mixed|            61|         873|      14.99|         14.99|     0.0|      true|\n",
            "|249050|Dungeon of the EN...|  2014-10-27|true| true|false|  Very Positive|            88|        8784|      11.99|         11.99|     0.0|      true|\n",
            "|250180|        METAL SLUG 3|  2015-09-14|true|false|false|  Very Positive|            90|        5579|       7.99|          7.99|     0.0|      true|\n",
            "|253980|             Enclave|  2013-10-04|true| true| true|Mostly Positive|            75|        1608|       4.99|          4.99|     0.0|      true|\n",
            "|271850|Men of War: Assau...|  2014-05-16|true|false|false|          Mixed|            61|         199|       6.99|          6.99|     0.0|      true|\n",
            "|282900|Hyperdimension Ne...|  2015-01-29|true|false|false|  Very Positive|            94|        9686|      14.99|         14.99|     0.0|      true|\n",
            "| 19810|The Sum of All Fears|  2008-10-10|true|false|false|Mostly Positive|            75|          33|       9.99|          9.99|     0.0|      true|\n",
            "| 15270|          Cold Fear™|  2008-05-13|true|false|false|  Very Positive|            85|         800|       9.99|          9.99|     0.0|      true|\n",
            "| 21130|LEGO® Harry Potte...|  2010-06-25|true|false|false|  Very Positive|            85|        5169|      19.99|         19.99|     0.0|      true|\n",
            "| 22130|Hearts of Iron 2 ...|  2009-01-23|true|false|false|  Very Positive|            85|         462|      14.99|         14.99|     0.0|      true|\n",
            "| 29180|               Osmos|  2009-08-18|true| true| true|  Very Positive|            88|         532|       9.99|          9.99|     0.0|      true|\n",
            "| 32750|          Comanche 4|  2009-06-18|true|false|false|  Very Positive|            90|         222|       9.99|          9.99|     0.0|      true|\n",
            "|241620|          Inquisitor|  2013-08-01|true|false|false|Mostly Positive|            70|         390|       9.99|          9.99|     0.0|      true|\n",
            "|408520|                FORM|  2017-06-01|true|false|false|  Very Positive|            91|         934|      14.99|         14.99|     0.0|      true|\n",
            "|244910|            Homesick|  2015-05-28|true|false|false|Mostly Positive|            77|        1139|      14.99|         14.99|     0.0|      true|\n",
            "|245950|Borderlands 2: He...|  2014-02-11|true| true| true|  Very Positive|            84|         294|       0.89|          2.99|    70.0|      true|\n",
            "|250460|  Bridge Constructor|  2013-10-16|true| true| true|Mostly Positive|            77|         716|       2.39|         19.99|    88.0|      true|\n",
            "+------+--------------------+------------+----+-----+-----+---------------+--------------+------------+-----------+--------------+--------+----------+\n",
            "only showing top 20 rows\n",
            "\n"
          ]
        }
      ]
    },
    {
      "cell_type": "code",
      "source": [
        "games_df.printSchema()"
      ],
      "metadata": {
        "execution": {
          "iopub.status.busy": "2024-01-05T18:49:52.115476Z",
          "iopub.status.idle": "2024-01-05T18:49:52.116154Z",
          "shell.execute_reply.started": "2024-01-05T18:49:52.115855Z",
          "shell.execute_reply": "2024-01-05T18:49:52.115881Z"
        },
        "trusted": true,
        "colab": {
          "base_uri": "https://localhost:8080/"
        },
        "id": "x6aR0teW_P53",
        "outputId": "871bf4c0-f82f-4ae8-8e73-8389e15280cc"
      },
      "execution_count": null,
      "outputs": [
        {
          "output_type": "stream",
          "name": "stdout",
          "text": [
            "root\n",
            " |-- app_id: integer (nullable = true)\n",
            " |-- title: string (nullable = true)\n",
            " |-- date_release: date (nullable = true)\n",
            " |-- win: boolean (nullable = true)\n",
            " |-- mac: boolean (nullable = true)\n",
            " |-- linux: boolean (nullable = true)\n",
            " |-- rating: string (nullable = true)\n",
            " |-- positive_ratio: integer (nullable = true)\n",
            " |-- user_reviews: integer (nullable = true)\n",
            " |-- price_final: double (nullable = true)\n",
            " |-- price_original: double (nullable = true)\n",
            " |-- discount: double (nullable = true)\n",
            " |-- steam_deck: boolean (nullable = true)\n",
            "\n"
          ]
        }
      ]
    },
    {
      "cell_type": "markdown",
      "source": [
        "### 3.1.1 Missing values"
      ],
      "metadata": {
        "id": "F2UdogQB_P53"
      }
    },
    {
      "cell_type": "code",
      "source": [
        "for column in games_df.columns:\n",
        "    missing_count = games_df.filter(col(column).isNull()).count()\n",
        "    print(f\"Missing values in {column}: {missing_count}\")"
      ],
      "metadata": {
        "execution": {
          "iopub.status.busy": "2024-01-05T18:49:52.117847Z",
          "iopub.status.idle": "2024-01-05T18:49:52.118381Z",
          "shell.execute_reply.started": "2024-01-05T18:49:52.118105Z",
          "shell.execute_reply": "2024-01-05T18:49:52.118130Z"
        },
        "trusted": true,
        "colab": {
          "base_uri": "https://localhost:8080/"
        },
        "id": "299TfR4Z_P53",
        "outputId": "004e2aeb-2131-4b01-df90-19a59ee69b71"
      },
      "execution_count": null,
      "outputs": [
        {
          "output_type": "stream",
          "name": "stdout",
          "text": [
            "Missing values in app_id: 0\n",
            "Missing values in title: 0\n",
            "Missing values in date_release: 0\n",
            "Missing values in win: 0\n",
            "Missing values in mac: 0\n",
            "Missing values in linux: 0\n",
            "Missing values in rating: 0\n",
            "Missing values in positive_ratio: 0\n",
            "Missing values in user_reviews: 0\n",
            "Missing values in price_final: 0\n",
            "Missing values in price_original: 0\n",
            "Missing values in discount: 0\n",
            "Missing values in steam_deck: 0\n"
          ]
        }
      ]
    },
    {
      "cell_type": "markdown",
      "source": [
        "There is no missing values here, which is great"
      ],
      "metadata": {
        "id": "B4kRIryK_P53"
      }
    },
    {
      "cell_type": "markdown",
      "source": [
        "### 3.1.2 Distribution of Numerical Columns"
      ],
      "metadata": {
        "id": "T6O18_SP_P53"
      }
    },
    {
      "cell_type": "markdown",
      "source": [
        "**positive_ratio**: Ratio of positive feedbacks\n",
        "\n",
        "**user_reviews**: Amount of user reviews availble on the Steam page\n",
        "\n",
        "**price_final**: Price in US dollars $ calculated after the discount\n",
        "\n",
        "**price_original**: Price in US dollars $ before the discount\n",
        "\n",
        "**discount**: Discount percentage\n"
      ],
      "metadata": {
        "id": "hRdBJK_o_P53"
      }
    },
    {
      "cell_type": "markdown",
      "source": [
        "**positive_ratio**"
      ],
      "metadata": {
        "id": "BKXr9SCG_P54"
      }
    },
    {
      "cell_type": "code",
      "source": [
        "games_df.select(\"positive_ratio\").toPandas().plot(kind='hist', title=column, bins=20, edgecolor='black')\n",
        "plt.xlabel(column)\n",
        "plt.ylabel(\"Frequency\")\n",
        "plt.show()"
      ],
      "metadata": {
        "execution": {
          "iopub.status.busy": "2024-01-05T18:49:52.122967Z",
          "iopub.status.idle": "2024-01-05T18:49:52.123533Z",
          "shell.execute_reply.started": "2024-01-05T18:49:52.123238Z",
          "shell.execute_reply": "2024-01-05T18:49:52.123266Z"
        },
        "trusted": true,
        "colab": {
          "base_uri": "https://localhost:8080/",
          "height": 472
        },
        "id": "EthPUeQj_P54",
        "outputId": "15d5e62d-bc75-4039-c5b9-225866b27247"
      },
      "execution_count": null,
      "outputs": [
        {
          "output_type": "display_data",
          "data": {
            "text/plain": [
              "<Figure size 640x480 with 1 Axes>"
            ],
            "image/png": "[encoded data removed]"
          },
          "metadata": {}
        }
      ]
    },
    {
      "cell_type": "markdown",
      "source": [
        "from the graph positive ratio, it's right skewed, a good percentage of reviews are actually positive\n",
        "\n",
        "it's interesting to know which games got the highest positive rate, or with the price_final"
      ],
      "metadata": {
        "id": "R5fXcXkW_P54"
      }
    },
    {
      "cell_type": "code",
      "source": [
        "top_positive_ratio_games = games_df.orderBy(desc(\"positive_ratio\"))\n",
        "top_positive_ratio_games.select(\"title\", \"positive_ratio\").show(10, truncate=False)\n"
      ],
      "metadata": {
        "execution": {
          "iopub.status.busy": "2024-01-05T18:49:52.124589Z",
          "iopub.status.idle": "2024-01-05T18:49:52.125136Z",
          "shell.execute_reply.started": "2024-01-05T18:49:52.124850Z",
          "shell.execute_reply": "2024-01-05T18:49:52.124877Z"
        },
        "trusted": true,
        "colab": {
          "base_uri": "https://localhost:8080/"
        },
        "id": "EFpy3804_P54",
        "outputId": "06ffec3a-2875-4c99-89c8-87c78e1c1e45"
      },
      "execution_count": null,
      "outputs": [
        {
          "output_type": "stream",
          "name": "stdout",
          "text": [
            "+------------------------------------------------------------+--------------+\n",
            "|title                                                       |positive_ratio|\n",
            "+------------------------------------------------------------+--------------+\n",
            "|Endless Monday: Dreams and Deadlines                        |100           |\n",
            "|Monster Roadtrip Playable character - Hazel                 |100           |\n",
            "|Captain of Industry - Supporter edition upgrade             |100           |\n",
            "|Bunny e-Shop  The Art of the Game                           |100           |\n",
            "|Our Life: Beginnings & Always - Baxter's Story              |100           |\n",
            "|The House in Fata Morgana Original Soundtrack               |100           |\n",
            "|Cassette Beasts: Original Soundtrack                        |100           |\n",
            "|Dead In Vinland - The Vallhund                              |100           |\n",
            "|Call of Duty®: Modern Warfare® II - Griffin: Pro Pack       |100           |\n",
            "|Valkyrie Hat (or 'Buy Us Coffee') DLC for Secrets of Grindea|100           |\n",
            "+------------------------------------------------------------+--------------+\n",
            "only showing top 10 rows\n",
            "\n"
          ]
        }
      ]
    },
    {
      "cell_type": "markdown",
      "source": [
        "<img src=\"https://cdn.cloudflare.steamstatic.com/steam/apps/1967010/header.jpg?t=1658249117\" width = 400px align=\"right\"/>\n",
        "<img src=\"https://cdn.cloudflare.steamstatic.com/steam/apps/2147630/header.jpg?t=1666413158\" width = 400px align=\"right\"/>\n",
        "<img src=\"https://cdn.cloudflare.steamstatic.com/steam/apps/1111460/header.jpg?t=1703214421\" width = 400px align=\"right\"/>\n",
        "<img src=\"https://cdn.cloudflare.steamstatic.com/steam/apps/896640/ss_941231d3bd5225fc52f616c41b5c0d3cd9cdb896.1920x1080.jpg?t=1686562050\" width = 400px align=\"right\"/>\n",
        "\n"
      ],
      "metadata": {
        "id": "ycqAJD5B_P54"
      }
    },
    {
      "cell_type": "markdown",
      "source": [
        "Surprisengly, most of the games are actually silly and are not of good graphics and most of them are targeted to young kids, maybe that's why they chose to give postive rate"
      ],
      "metadata": {
        "id": "q8RqtwQd_P54"
      }
    },
    {
      "cell_type": "code",
      "source": [
        "top_positive_ratio_games = games_df.orderBy(desc(\"positive_ratio\"))\n",
        "top_positive_ratio_games.select(\"title\", \"positive_ratio\", \"price_final\").show(10, truncate=False)\n"
      ],
      "metadata": {
        "execution": {
          "iopub.status.busy": "2024-01-05T18:49:52.127036Z",
          "iopub.status.idle": "2024-01-05T18:49:52.127598Z",
          "shell.execute_reply.started": "2024-01-05T18:49:52.127296Z",
          "shell.execute_reply": "2024-01-05T18:49:52.127323Z"
        },
        "trusted": true,
        "colab": {
          "base_uri": "https://localhost:8080/"
        },
        "id": "WdBaKo7q_P54",
        "outputId": "9d0814f0-4a55-4684-8491-a338913e53e3"
      },
      "execution_count": null,
      "outputs": [
        {
          "output_type": "stream",
          "name": "stdout",
          "text": [
            "+------------------------------------------------------------+--------------+-----------+\n",
            "|title                                                       |positive_ratio|price_final|\n",
            "+------------------------------------------------------------+--------------+-----------+\n",
            "|Endless Monday: Dreams and Deadlines                        |100           |9.99       |\n",
            "|Monster Roadtrip Playable character - Hazel                 |100           |2.39       |\n",
            "|Captain of Industry - Supporter edition upgrade             |100           |8.99       |\n",
            "|Bunny e-Shop  The Art of the Game                           |100           |2.99       |\n",
            "|Our Life: Beginnings & Always - Baxter's Story              |100           |4.99       |\n",
            "|The House in Fata Morgana Original Soundtrack               |100           |11.99      |\n",
            "|Cassette Beasts: Original Soundtrack                        |100           |9.99       |\n",
            "|Dead In Vinland - The Vallhund                              |100           |1.99       |\n",
            "|Call of Duty®: Modern Warfare® II - Griffin: Pro Pack       |100           |19.99      |\n",
            "|Valkyrie Hat (or 'Buy Us Coffee') DLC for Secrets of Grindea|100           |4.99       |\n",
            "+------------------------------------------------------------+--------------+-----------+\n",
            "only showing top 10 rows\n",
            "\n"
          ]
        }
      ]
    },
    {
      "cell_type": "code",
      "source": [
        "top_positive_ratio_games = games_df.orderBy(desc(\"positive_ratio\")).select(\"title\", \"positive_ratio\", \"price_final\")\n",
        "top_positive_ratio_pd = top_positive_ratio_games.toPandas()\n",
        "plt.figure(figsize=(10, 6))\n",
        "plt.scatter(top_positive_ratio_pd[\"positive_ratio\"], top_positive_ratio_pd[\"price_final\"], alpha=0.5)\n",
        "plt.title(\"Scatter Plot of Positive Ratio vs. Price Final\")\n",
        "plt.xlabel(\"Positive Ratio\")\n",
        "plt.ylabel(\"Price Final ($)\")\n",
        "plt.grid(True)\n",
        "plt.show()"
      ],
      "metadata": {
        "execution": {
          "iopub.status.busy": "2024-01-05T18:49:52.129008Z",
          "iopub.status.idle": "2024-01-05T18:49:52.129549Z",
          "shell.execute_reply.started": "2024-01-05T18:49:52.129263Z",
          "shell.execute_reply": "2024-01-05T18:49:52.129290Z"
        },
        "trusted": true,
        "colab": {
          "base_uri": "https://localhost:8080/",
          "height": 564
        },
        "id": "G9yncqXA_P55",
        "outputId": "6857b584-b1fb-4d62-dbf2-cfc4214191da"
      },
      "execution_count": null,
      "outputs": [
        {
          "output_type": "display_data",
          "data": {
            "text/plain": [
              "<Figure size 1000x600 with 1 Axes>"
            ],
            "image/png": "[encoded data removed]"
          },
          "metadata": {}
        }
      ]
    },
    {
      "cell_type": "code",
      "source": [
        "from pyspark.sql.functions import corr\n",
        "\n",
        "# Calculate correlation between positive_ratio and price_final\n",
        "correlation = games_df.select(corr(\"positive_ratio\", \"price_final\")).collect()[0][0]\n",
        "\n",
        "print(f\"Correlation between positive_ratio and price_final: {correlation}\")\n"
      ],
      "metadata": {
        "execution": {
          "iopub.status.busy": "2024-01-05T18:49:52.131182Z",
          "iopub.status.idle": "2024-01-05T18:49:52.131755Z",
          "shell.execute_reply.started": "2024-01-05T18:49:52.131449Z",
          "shell.execute_reply": "2024-01-05T18:49:52.131476Z"
        },
        "trusted": true,
        "colab": {
          "base_uri": "https://localhost:8080/"
        },
        "id": "D90Jj0BZ_P55",
        "outputId": "4ceb5305-db9d-4fb5-d2e8-712aaf3aa80e"
      },
      "execution_count": null,
      "outputs": [
        {
          "output_type": "stream",
          "name": "stdout",
          "text": [
            "Correlation between positive_ratio and price_final: -0.00998940957711038\n"
          ]
        }
      ]
    },
    {
      "cell_type": "markdown",
      "source": [
        "seems like there is no correlation between them"
      ],
      "metadata": {
        "id": "WQiWV6yX_P55"
      }
    },
    {
      "cell_type": "markdown",
      "source": [
        "**user_reviews**"
      ],
      "metadata": {
        "id": "I-pJVbFw_P55"
      }
    },
    {
      "cell_type": "code",
      "source": [
        "games_df_log_transformed = games_df.withColumn(\"user_reviews_log\", log(col(\"user_reviews\") + 1))\n",
        "games_df_log_transformed.select(\"user_reviews_log\").toPandas().plot(kind='hist', bins=20, edgecolor='black')\n",
        "plt.xlabel(\"Log(User Reviews + 1)\")\n",
        "plt.ylabel(\"Frequency\")\n",
        "plt.title(\"Log-Transformed User Reviews Distribution\")\n",
        "plt.show()\n"
      ],
      "metadata": {
        "execution": {
          "iopub.status.busy": "2024-01-05T18:49:52.133274Z",
          "iopub.status.idle": "2024-01-05T18:49:52.133842Z",
          "shell.execute_reply.started": "2024-01-05T18:49:52.133551Z",
          "shell.execute_reply": "2024-01-05T18:49:52.133594Z"
        },
        "trusted": true,
        "colab": {
          "base_uri": "https://localhost:8080/",
          "height": 472
        },
        "id": "tB7Wd-H7_P55",
        "outputId": "ad269d76-c08c-41f5-a2a5-dcc2a24046ce"
      },
      "execution_count": null,
      "outputs": [
        {
          "output_type": "display_data",
          "data": {
            "text/plain": [
              "<Figure size 640x480 with 1 Axes>"
            ],
            "image/png": "[encoded data removed]"
          },
          "metadata": {}
        }
      ]
    },
    {
      "cell_type": "code",
      "source": [
        "games_df.select(\"user_reviews\").toPandas().boxplot()\n",
        "plt.title(\"Boxplot of User Reviews\")\n",
        "plt.ylabel(\"User Reviews\")\n",
        "plt.show()\n"
      ],
      "metadata": {
        "execution": {
          "iopub.status.busy": "2024-01-05T18:49:52.135448Z",
          "iopub.status.idle": "2024-01-05T18:49:52.135989Z",
          "shell.execute_reply.started": "2024-01-05T18:49:52.135721Z",
          "shell.execute_reply": "2024-01-05T18:49:52.135747Z"
        },
        "trusted": true,
        "colab": {
          "base_uri": "https://localhost:8080/",
          "height": 452
        },
        "id": "jSQAfUJq_P56",
        "outputId": "ce06fb43-dad5-4dba-dfbe-b6bb870f82e2"
      },
      "execution_count": null,
      "outputs": [
        {
          "output_type": "display_data",
          "data": {
            "text/plain": [
              "<Figure size 640x480 with 1 Axes>"
            ],
            "image/png": "[encoded data removed]"
          },
          "metadata": {}
        }
      ]
    },
    {
      "cell_type": "markdown",
      "source": [
        "**price_final**"
      ],
      "metadata": {
        "id": "UX-Setts_P56"
      }
    },
    {
      "cell_type": "code",
      "source": [
        "q1, median, q3 = games_df.approxQuantile('price_final', [0.25, 0.5, 0.75], 0)\n",
        "min_value, max_value = games_df.selectExpr(\"min(price_final)\", \"max(price_final)\").first()\n",
        "\n",
        "# print(f\"Min= {min_value}, Q1= {q1}, Median= {median}, Q3= {q3}, Max = {max_value}\")\n",
        "mean_value = games_df.agg({'price_final': 'mean'}).collect()[0][0]\n",
        "print(f\"Min= {min_value}, Q1= {q1}, Median= {median}, Q3= {q3}, Max= {max_value}\\nMean= {mean_value}\")\n",
        "\n",
        "plt.figure()\n",
        "boxplot = games_df.select(\"price_final\").toPandas().boxplot()\n",
        "plt.title(\"Boxplot of Price Final\")\n",
        "plt.ylabel(\"Price Final\")\n",
        "\n",
        "plt.text(1, min_value, f'Min: {min_value:.2f}', verticalalignment='center', fontsize=8)\n",
        "plt.text(1, q1, f'Q1: {q1:.2f}', verticalalignment='center', fontsize=8)\n",
        "plt.text(1, median, f'Median: {median:.2f}', verticalalignment='center', fontsize=8)\n",
        "plt.text(1, q3, f'Q3: {q3:.2f}', verticalalignment='center', fontsize=8)\n",
        "plt.text(1, max_value, f'Max: {max_value:.2f}', verticalalignment='center', fontsize=8)\n",
        "\n",
        "plt.show()\n"
      ],
      "metadata": {
        "execution": {
          "iopub.status.busy": "2024-01-05T18:49:52.137520Z",
          "iopub.status.idle": "2024-01-05T18:49:52.138089Z",
          "shell.execute_reply.started": "2024-01-05T18:49:52.137804Z",
          "shell.execute_reply": "2024-01-05T18:49:52.137833Z"
        },
        "trusted": true,
        "colab": {
          "base_uri": "https://localhost:8080/",
          "height": 487
        },
        "id": "u3Y0u5BQ_P56",
        "outputId": "6969ab75-0d33-44f6-ae92-319cfba63a41"
      },
      "execution_count": null,
      "outputs": [
        {
          "output_type": "stream",
          "name": "stdout",
          "text": [
            "Min= 0.0, Q1= 0.99, Median= 4.99, Q3= 10.99, Max= 299.99\n",
            "Mean= 8.620324933161458\n"
          ]
        },
        {
          "output_type": "display_data",
          "data": {
            "text/plain": [
              "<Figure size 640x480 with 1 Axes>"
            ],
            "image/png": "[encoded data removed]"
          },
          "metadata": {}
        }
      ]
    },
    {
      "cell_type": "markdown",
      "source": [
        "**Correlation**"
      ],
      "metadata": {
        "id": "xi-k01VF_P56"
      }
    },
    {
      "cell_type": "code",
      "source": [
        "numerical_columns = [\"positive_ratio\", \"user_reviews\", \"price_final\", \"price_original\", \"discount\"]\n",
        "corr_matrix = pd.DataFrame(index=numerical_columns, columns=numerical_columns)\n",
        "for col1 in numerical_columns:\n",
        "    for col2 in numerical_columns:\n",
        "        corr_value = games_df.select(corr(col1, col2)).collect()[0][0]\n",
        "        corr_matrix.loc[col1, col2] = corr_value\n",
        "corr_matrix = corr_matrix.apply(pd.to_numeric)\n",
        "\n",
        "# Plot the heatmap\n",
        "plt.figure(figsize=(10, 8))\n",
        "sns.heatmap(corr_matrix, annot=True, fmt=\".2f\", cmap='coolwarm')\n",
        "plt.title(\"Correlation Matrix of Games DataFrame\")\n",
        "plt.show()"
      ],
      "metadata": {
        "execution": {
          "iopub.status.busy": "2024-01-05T18:49:52.139630Z",
          "iopub.status.idle": "2024-01-05T18:49:52.140162Z",
          "shell.execute_reply.started": "2024-01-05T18:49:52.139884Z",
          "shell.execute_reply": "2024-01-05T18:49:52.139910Z"
        },
        "trusted": true,
        "colab": {
          "base_uri": "https://localhost:8080/",
          "height": 699
        },
        "id": "9TJDnxZA_P56",
        "outputId": "d573a9ec-0c3b-4ff7-a87f-dfc9b5834942"
      },
      "execution_count": null,
      "outputs": [
        {
          "output_type": "display_data",
          "data": {
            "text/plain": [
              "<Figure size 1000x800 with 2 Axes>"
            ],
            "image/png": "[encoded data removed]"
          },
          "metadata": {}
        }
      ]
    },
    {
      "cell_type": "code",
      "source": [],
      "metadata": {
        "id": "7RVUtQwv_P56"
      },
      "execution_count": null,
      "outputs": []
    },
    {
      "cell_type": "markdown",
      "source": [],
      "metadata": {
        "id": "E_v6c75B_P56"
      }
    },
    {
      "cell_type": "markdown",
      "source": [
        "## 3.2 users_df"
      ],
      "metadata": {
        "id": "l_EuMlDA_P6H"
      }
    },
    {
      "cell_type": "code",
      "source": [
        "users_df.show()"
      ],
      "metadata": {
        "execution": {
          "iopub.status.busy": "2024-01-05T18:49:52.141799Z",
          "iopub.status.idle": "2024-01-05T18:49:52.143025Z",
          "shell.execute_reply.started": "2024-01-05T18:49:52.142722Z",
          "shell.execute_reply": "2024-01-05T18:49:52.142751Z"
        },
        "trusted": true,
        "colab": {
          "base_uri": "https://localhost:8080/"
        },
        "id": "ZEDF5M1f_P6H",
        "outputId": "ea82de11-3522-48de-fefd-47318485f48d"
      },
      "execution_count": null,
      "outputs": [
        {
          "output_type": "stream",
          "name": "stdout",
          "text": [
            "+--------+--------+-------+\n",
            "| user_id|products|reviews|\n",
            "+--------+--------+-------+\n",
            "| 7360263|     359|      0|\n",
            "|14020781|     156|      1|\n",
            "| 8762579|     329|      4|\n",
            "| 4820647|     176|      4|\n",
            "| 5167327|      98|      2|\n",
            "| 5664667|     145|      5|\n",
            "| 5889167|     447|      2|\n",
            "| 7281762|    1083|      1|\n",
            "| 7445952|     273|      1|\n",
            "| 7462927|      51|      1|\n",
            "| 7922733|     108|      2|\n",
            "| 9201535|     166|      1|\n",
            "| 9514331|     237|      4|\n",
            "| 9972262|     250|      3|\n",
            "|10184828|     187|      1|\n",
            "|10714376|    1824|      2|\n",
            "|11237958|      12|      1|\n",
            "|11274058|     102|      4|\n",
            "|11300174|     210|     17|\n",
            "|11463309|     318|      5|\n",
            "+--------+--------+-------+\n",
            "only showing top 20 rows\n",
            "\n"
          ]
        }
      ]
    },
    {
      "cell_type": "code",
      "source": [
        "users_df.printSchema()"
      ],
      "metadata": {
        "execution": {
          "iopub.status.busy": "2024-01-05T18:49:52.144283Z",
          "iopub.status.idle": "2024-01-05T18:49:52.144842Z",
          "shell.execute_reply.started": "2024-01-05T18:49:52.144552Z",
          "shell.execute_reply": "2024-01-05T18:49:52.144597Z"
        },
        "trusted": true,
        "colab": {
          "base_uri": "https://localhost:8080/"
        },
        "id": "xZAyHVmk_P6I",
        "outputId": "b7b7a8be-decd-4fc5-de52-0523764f5652"
      },
      "execution_count": null,
      "outputs": [
        {
          "output_type": "stream",
          "name": "stdout",
          "text": [
            "root\n",
            " |-- user_id: integer (nullable = true)\n",
            " |-- products: integer (nullable = true)\n",
            " |-- reviews: integer (nullable = true)\n",
            "\n"
          ]
        }
      ]
    },
    {
      "cell_type": "markdown",
      "source": [
        "**reviews**: Number of reviews published\n",
        "\n",
        "**products**: Number of games/add-ons purchased by the user"
      ],
      "metadata": {
        "id": "GviRAxY__P6I"
      }
    },
    {
      "cell_type": "code",
      "source": [
        "sample_fraction = 0.5  # Adjust as needed\n",
        "sample_df = users_df.sample(fraction=sample_fraction).toPandas()\n",
        "sample_df['reviews_log'] = np.log(sample_df['reviews'] + 1)\n",
        "sample_df['reviews_log'].plot(kind='hist', bins=20, edgecolor='black')\n",
        "plt.xlabel(\"Log of Reviews\")\n",
        "plt.ylabel(\"Frequency\")\n",
        "plt.show()\n"
      ],
      "metadata": {
        "execution": {
          "iopub.status.busy": "2024-01-05T18:49:52.146285Z",
          "iopub.status.idle": "2024-01-05T18:49:52.146877Z",
          "shell.execute_reply.started": "2024-01-05T18:49:52.146538Z",
          "shell.execute_reply": "2024-01-05T18:49:52.146614Z"
        },
        "trusted": true,
        "colab": {
          "base_uri": "https://localhost:8080/",
          "height": 465
        },
        "id": "1iaWQgd-_P6I",
        "outputId": "ba029ff4-80e5-4daa-82ba-af083151554d"
      },
      "execution_count": null,
      "outputs": [
        {
          "output_type": "display_data",
          "data": {
            "text/plain": [
              "<Figure size 640x480 with 1 Axes>"
            ],
            "image/png": "[encoded data removed]"
          },
          "metadata": {}
        }
      ]
    },
    {
      "cell_type": "code",
      "source": [
        "sample_fraction = 0.5  # Adjust as needed\n",
        "sample_df = users_df.sample(fraction=sample_fraction).toPandas()\n",
        "plt.figure()\n",
        "sample_df.boxplot(column=['reviews'])\n",
        "plt.title(\"Box Plot of Reviews\")\n",
        "plt.ylabel(\"Reviews\")\n",
        "plt.show()\n"
      ],
      "metadata": {
        "execution": {
          "iopub.status.busy": "2024-01-05T18:49:52.148283Z",
          "iopub.status.idle": "2024-01-05T18:49:52.148863Z",
          "shell.execute_reply.started": "2024-01-05T18:49:52.148558Z",
          "shell.execute_reply": "2024-01-05T18:49:52.148603Z"
        },
        "trusted": true,
        "colab": {
          "base_uri": "https://localhost:8080/",
          "height": 452
        },
        "id": "SEGsERoS_P6I",
        "outputId": "2d2afe9f-dd81-4cd7-fa94-1bb36f0a4452"
      },
      "execution_count": null,
      "outputs": [
        {
          "output_type": "display_data",
          "data": {
            "text/plain": [
              "<Figure size 640x480 with 1 Axes>"
            ],
            "image/png": "[encoded data removed]"
          },
          "metadata": {}
        }
      ]
    },
    {
      "cell_type": "markdown",
      "source": [
        "## 3.3 Rec df"
      ],
      "metadata": {
        "id": "D3EGDfMW_P6I"
      }
    },
    {
      "cell_type": "code",
      "source": [
        "recommendation_df.show()"
      ],
      "metadata": {
        "execution": {
          "iopub.status.busy": "2024-01-05T18:49:52.150737Z",
          "iopub.status.idle": "2024-01-05T18:49:52.151266Z",
          "shell.execute_reply.started": "2024-01-05T18:49:52.150988Z",
          "shell.execute_reply": "2024-01-05T18:49:52.151014Z"
        },
        "trusted": true,
        "colab": {
          "base_uri": "https://localhost:8080/"
        },
        "id": "08gjgjFr_P6I",
        "outputId": "b971d5e1-9d3d-4aba-ce19-234cd6ebd9c3"
      },
      "execution_count": null,
      "outputs": [
        {
          "output_type": "stream",
          "name": "stdout",
          "text": [
            "+-------+-------+-----+----------+--------------+-----+-------+---------+\n",
            "| app_id|helpful|funny|      date|is_recommended|hours|user_id|review_id|\n",
            "+-------+-------+-----+----------+--------------+-----+-------+---------+\n",
            "| 975370|      0|    0|2022-12-12|          true| 36.3|  51580|        0|\n",
            "| 304390|      4|    0|2017-02-17|         false| 11.5|   2586|        1|\n",
            "|1085660|      2|    0|2019-11-17|          true|336.5| 253880|        2|\n",
            "| 703080|      0|    0|2022-09-23|          true| 27.4| 259432|        3|\n",
            "| 526870|      0|    0|2021-01-10|          true|  7.9|  23869|        4|\n",
            "| 306130|      0|    0|2021-10-10|          true|  8.6|  45425|        5|\n",
            "| 238960|      0|    0|2017-11-25|          true|538.8|  88282|        6|\n",
            "|    730|      0|    0|2021-11-30|         false|157.5|  63209|        7|\n",
            "| 255710|      0|    0|2021-05-21|          true| 18.7| 354512|        8|\n",
            "| 289070|      0|    0|2020-05-26|          true|397.5| 454422|        9|\n",
            "| 431960|      0|    0|2020-10-14|          true| 30.3| 199725|       10|\n",
            "|1086940|      0|    0|2020-10-07|          true| 50.0|  85822|       11|\n",
            "|1938090|      0|    0|2022-11-16|          true| 46.7| 161081|       12|\n",
            "|1286830|      2|    0|2020-07-26|          true| 19.3| 113279|       13|\n",
            "|1172620|      0|    0|2020-11-04|          true| 89.1| 122640|       14|\n",
            "| 306130|      0|    0|2021-05-12|          true| 61.1|  75422|       15|\n",
            "| 635260|      0|    0|2022-01-30|          true|177.0|  76583|       16|\n",
            "|1151340|      0|    0|2020-07-01|          true| 86.3| 124924|       17|\n",
            "| 289070|      0|    0|2020-05-29|          true|244.1| 261528|       18|\n",
            "| 392160|      3|    0|2018-12-26|         false|320.5| 408750|       19|\n",
            "+-------+-------+-----+----------+--------------+-----+-------+---------+\n",
            "only showing top 20 rows\n",
            "\n"
          ]
        }
      ]
    },
    {
      "cell_type": "code",
      "source": [
        "recommendation_df.printSchema()"
      ],
      "metadata": {
        "execution": {
          "iopub.status.busy": "2024-01-05T18:49:52.153099Z",
          "iopub.status.idle": "2024-01-05T18:49:52.153670Z",
          "shell.execute_reply.started": "2024-01-05T18:49:52.153358Z",
          "shell.execute_reply": "2024-01-05T18:49:52.153384Z"
        },
        "trusted": true,
        "colab": {
          "base_uri": "https://localhost:8080/"
        },
        "id": "MQi3I6Ds_P6J",
        "outputId": "eb141be3-b24a-462c-886e-32db19a74b3e"
      },
      "execution_count": null,
      "outputs": [
        {
          "output_type": "stream",
          "name": "stdout",
          "text": [
            "root\n",
            " |-- app_id: integer (nullable = true)\n",
            " |-- helpful: integer (nullable = true)\n",
            " |-- funny: integer (nullable = true)\n",
            " |-- date: date (nullable = true)\n",
            " |-- is_recommended: boolean (nullable = true)\n",
            " |-- hours: double (nullable = true)\n",
            " |-- user_id: integer (nullable = true)\n",
            " |-- review_id: integer (nullable = true)\n",
            "\n"
          ]
        }
      ]
    },
    {
      "cell_type": "markdown",
      "source": [
        "# 4.0 Merging datasets and data cleaning\n"
      ],
      "metadata": {
        "id": "TI3rVSNP_P6J"
      }
    },
    {
      "cell_type": "code",
      "source": [
        "games_df.printSchema()"
      ],
      "metadata": {
        "colab": {
          "base_uri": "https://localhost:8080/"
        },
        "id": "X8zMToGK6xXy",
        "outputId": "d60c6e4b-6601-4a60-e8b8-a894368f159b"
      },
      "execution_count": null,
      "outputs": [
        {
          "output_type": "stream",
          "name": "stdout",
          "text": [
            "root\n",
            " |-- app_id: integer (nullable = true)\n",
            " |-- title: string (nullable = true)\n",
            " |-- date_release: date (nullable = true)\n",
            " |-- win: boolean (nullable = true)\n",
            " |-- mac: boolean (nullable = true)\n",
            " |-- linux: boolean (nullable = true)\n",
            " |-- rating: string (nullable = true)\n",
            " |-- positive_ratio: integer (nullable = true)\n",
            " |-- user_reviews: integer (nullable = true)\n",
            " |-- price_final: double (nullable = true)\n",
            " |-- price_original: double (nullable = true)\n",
            " |-- discount: double (nullable = true)\n",
            " |-- steam_deck: boolean (nullable = true)\n",
            "\n"
          ]
        }
      ]
    },
    {
      "cell_type": "code",
      "source": [
        "metadata_df.printSchema()"
      ],
      "metadata": {
        "colab": {
          "base_uri": "https://localhost:8080/"
        },
        "id": "IXRu194S6y8x",
        "outputId": "b916fd13-2142-426f-cd6e-e0d0e234dee4"
      },
      "execution_count": null,
      "outputs": [
        {
          "output_type": "stream",
          "name": "stdout",
          "text": [
            "root\n",
            " |-- app_id: long (nullable = true)\n",
            " |-- description: string (nullable = true)\n",
            " |-- tags: array (nullable = true)\n",
            " |    |-- element: string (containsNull = true)\n",
            "\n"
          ]
        }
      ]
    },
    {
      "cell_type": "code",
      "source": [
        "# from pyspark.sql.functions import col, desc\n",
        "\n",
        "# # Joining the DataFrames on 'app_id'\n",
        "# games_meta_df  = games_df.join(metadata_df, games_df.app_id == metadata_df.app_id, 'inner')\n",
        "# games_meta_df.printSchema()"
      ],
      "metadata": {
        "execution": {
          "iopub.status.busy": "2024-01-05T18:49:52.154893Z",
          "iopub.status.idle": "2024-01-05T18:49:52.155432Z",
          "shell.execute_reply.started": "2024-01-05T18:49:52.155156Z",
          "shell.execute_reply": "2024-01-05T18:49:52.155182Z"
        },
        "trusted": true,
        "id": "TQ_ARDrp_P6J"
      },
      "execution_count": null,
      "outputs": []
    },
    {
      "cell_type": "code",
      "source": [
        "from pyspark.sql.functions import col\n",
        "\n",
        "# Joining the DataFrames on 'app_id' with alias for each DataFrame\n",
        "games_meta_df = games_df.alias('games').join(metadata_df.alias('metadata'), col('games.app_id') == col('metadata.app_id'), 'inner')\n",
        "\n",
        "# Selecting the columns you want\n",
        "selected_columns = ['games.app_id', 'title', 'date_release', 'win', 'mac', 'linux', 'rating', 'positive_ratio', 'user_reviews', 'price_final', 'price_original', 'discount', 'steam_deck', 'metadata.description', 'metadata.tags']\n",
        "\n",
        "# Creating the final DataFrame with selected columns\n",
        "games_meta_df = games_meta_df.select(*selected_columns)\n",
        "\n",
        "games_meta_df.printSchema()\n"
      ],
      "metadata": {
        "colab": {
          "base_uri": "https://localhost:8080/"
        },
        "id": "uAEptfdh7JEZ",
        "outputId": "c196e8f9-65b6-4502-f895-aac50626df13"
      },
      "execution_count": null,
      "outputs": [
        {
          "output_type": "stream",
          "name": "stdout",
          "text": [
            "root\n",
            " |-- app_id: integer (nullable = true)\n",
            " |-- title: string (nullable = true)\n",
            " |-- date_release: date (nullable = true)\n",
            " |-- win: boolean (nullable = true)\n",
            " |-- mac: boolean (nullable = true)\n",
            " |-- linux: boolean (nullable = true)\n",
            " |-- rating: string (nullable = true)\n",
            " |-- positive_ratio: integer (nullable = true)\n",
            " |-- user_reviews: integer (nullable = true)\n",
            " |-- price_final: double (nullable = true)\n",
            " |-- price_original: double (nullable = true)\n",
            " |-- discount: double (nullable = true)\n",
            " |-- steam_deck: boolean (nullable = true)\n",
            " |-- description: string (nullable = true)\n",
            " |-- tags: array (nullable = true)\n",
            " |    |-- element: string (containsNull = true)\n",
            "\n"
          ]
        }
      ]
    },
    {
      "cell_type": "code",
      "source": [
        "# Perform the join directly specifying the DataFrames\n",
        "df = games_meta_df.join(recommendation_df, 'app_id', 'inner')\n",
        "\n",
        "# Check the schema to ensure the join was successful\n",
        "df.printSchema()\n"
      ],
      "metadata": {
        "execution": {
          "iopub.status.busy": "2024-01-05T18:49:52.160853Z",
          "iopub.status.idle": "2024-01-05T18:49:52.161412Z",
          "shell.execute_reply.started": "2024-01-05T18:49:52.161110Z",
          "shell.execute_reply": "2024-01-05T18:49:52.161138Z"
        },
        "trusted": true,
        "colab": {
          "base_uri": "https://localhost:8080/"
        },
        "id": "zEF_aH1b_P6K",
        "outputId": "b69f581b-c134-4c41-f921-61a31e0d1406"
      },
      "execution_count": null,
      "outputs": [
        {
          "output_type": "stream",
          "name": "stdout",
          "text": [
            "root\n",
            " |-- app_id: integer (nullable = true)\n",
            " |-- title: string (nullable = true)\n",
            " |-- date_release: date (nullable = true)\n",
            " |-- win: boolean (nullable = true)\n",
            " |-- mac: boolean (nullable = true)\n",
            " |-- linux: boolean (nullable = true)\n",
            " |-- rating: string (nullable = true)\n",
            " |-- positive_ratio: integer (nullable = true)\n",
            " |-- user_reviews: integer (nullable = true)\n",
            " |-- price_final: double (nullable = true)\n",
            " |-- price_original: double (nullable = true)\n",
            " |-- discount: double (nullable = true)\n",
            " |-- steam_deck: boolean (nullable = true)\n",
            " |-- description: string (nullable = true)\n",
            " |-- tags: array (nullable = true)\n",
            " |    |-- element: string (containsNull = true)\n",
            " |-- helpful: integer (nullable = true)\n",
            " |-- funny: integer (nullable = true)\n",
            " |-- date: date (nullable = true)\n",
            " |-- is_recommended: boolean (nullable = true)\n",
            " |-- hours: double (nullable = true)\n",
            " |-- user_id: integer (nullable = true)\n",
            " |-- review_id: integer (nullable = true)\n",
            "\n"
          ]
        }
      ]
    },
    {
      "cell_type": "code",
      "source": [
        "# # Sample 10% of the recommendation DataFrame\n",
        "# sampled_recommendation_df = recommendation_df.sample(False, 0.1)\n",
        "\n",
        "# # Perform the join with the sampled DataFrame\n",
        "# df = games_meta_df.join(sampled_recommendation_df, 'app_id', 'inner')\n",
        "\n",
        "# # Check the schema to ensure the join was successful\n",
        "# df.printSchema()\n"
      ],
      "metadata": {
        "execution": {
          "iopub.status.busy": "2024-01-05T18:49:52.163412Z",
          "iopub.status.idle": "2024-01-05T18:49:52.164029Z",
          "shell.execute_reply.started": "2024-01-05T18:49:52.163715Z",
          "shell.execute_reply": "2024-01-05T18:49:52.163744Z"
        },
        "trusted": true,
        "id": "VsGvkBRW_P6K"
      },
      "execution_count": null,
      "outputs": []
    },
    {
      "cell_type": "code",
      "source": [
        "print((df.count(), len(df.columns)))"
      ],
      "metadata": {
        "execution": {
          "iopub.status.busy": "2024-01-05T18:49:52.166069Z",
          "iopub.status.idle": "2024-01-05T18:49:52.166704Z",
          "shell.execute_reply.started": "2024-01-05T18:49:52.166346Z",
          "shell.execute_reply": "2024-01-05T18:49:52.166373Z"
        },
        "trusted": true,
        "colab": {
          "base_uri": "https://localhost:8080/"
        },
        "id": "bBQt1kN4_P6K",
        "outputId": "9d29e6e4-a3ea-45a8-d879-df2a46053475"
      },
      "execution_count": null,
      "outputs": [
        {
          "output_type": "stream",
          "name": "stdout",
          "text": [
            "(41154794, 22)\n"
          ]
        }
      ]
    },
    {
      "cell_type": "code",
      "source": [
        "df.show()"
      ],
      "metadata": {
        "execution": {
          "iopub.status.busy": "2024-01-05T18:49:52.168254Z",
          "iopub.status.idle": "2024-01-05T18:49:52.168859Z",
          "shell.execute_reply.started": "2024-01-05T18:49:52.168548Z",
          "shell.execute_reply": "2024-01-05T18:49:52.168597Z"
        },
        "trusted": true,
        "colab": {
          "base_uri": "https://localhost:8080/"
        },
        "id": "XZRdxZDr_P6K",
        "outputId": "0e689118-4198-400a-c68b-6f343109070d"
      },
      "execution_count": null,
      "outputs": [
        {
          "output_type": "stream",
          "name": "stdout",
          "text": [
            "+------+-----------+------------+----+-----+-----+-------------+--------------+------------+-----------+--------------+--------+----------+--------------------+--------------------+-------+-----+----------+--------------+-----+--------+---------+\n",
            "|app_id|      title|date_release| win|  mac|linux|       rating|positive_ratio|user_reviews|price_final|price_original|discount|steam_deck|         description|                tags|helpful|funny|      date|is_recommended|hours| user_id|review_id|\n",
            "+------+-----------+------------+----+-----+-----+-------------+--------------+------------+-----------+--------------+--------+----------+--------------------+--------------------+-------+-----+----------+--------------+-----+--------+---------+\n",
            "|  1700|Arx Fatalis|  2007-04-03|true|false|false|Very Positive|            86|        1543|       4.99|          4.99|     0.0|      true|This critically a...|[RPG, First-Perso...|     14|    0|2018-01-25|          true| 85.5|11403380| 11205989|\n",
            "|  1700|Arx Fatalis|  2007-04-03|true|false|false|Very Positive|            86|        1543|       4.99|          4.99|     0.0|      true|This critically a...|[RPG, First-Perso...|     19|    0|2019-12-20|          true| 14.5|11348184| 11205990|\n",
            "|  1700|Arx Fatalis|  2007-04-03|true|false|false|Very Positive|            86|        1543|       4.99|          4.99|     0.0|      true|This critically a...|[RPG, First-Perso...|      3|    0|2015-04-27|          true|  2.4| 4876510| 11205991|\n",
            "|  1700|Arx Fatalis|  2007-04-03|true|false|false|Very Positive|            86|        1543|       4.99|          4.99|     0.0|      true|This critically a...|[RPG, First-Perso...|      0|    0|2016-11-23|          true| 12.6| 8077113| 11205992|\n",
            "|  1700|Arx Fatalis|  2007-04-03|true|false|false|Very Positive|            86|        1543|       4.99|          4.99|     0.0|      true|This critically a...|[RPG, First-Perso...|      5|    4|2017-12-30|         false|  0.7| 5716569| 11205993|\n",
            "|  1700|Arx Fatalis|  2007-04-03|true|false|false|Very Positive|            86|        1543|       4.99|          4.99|     0.0|      true|This critically a...|[RPG, First-Perso...|      3|    0|2017-09-11|          true|  0.1|12361811| 11210166|\n",
            "|  1700|Arx Fatalis|  2007-04-03|true|false|false|Very Positive|            86|        1543|       4.99|          4.99|     0.0|      true|This critically a...|[RPG, First-Perso...|      5|    0|2014-12-30|          true| 14.3| 3879390| 11210167|\n",
            "|  1700|Arx Fatalis|  2007-04-03|true|false|false|Very Positive|            86|        1543|       4.99|          4.99|     0.0|      true|This critically a...|[RPG, First-Perso...|      0|    0|2021-10-06|          true|  5.9| 9653551| 11210171|\n",
            "|  1700|Arx Fatalis|  2007-04-03|true|false|false|Very Positive|            86|        1543|       4.99|          4.99|     0.0|      true|This critically a...|[RPG, First-Perso...|      2|    0|2012-10-28|          true|  0.7| 9625744| 11211162|\n",
            "|  1700|Arx Fatalis|  2007-04-03|true|false|false|Very Positive|            86|        1543|       4.99|          4.99|     0.0|      true|This critically a...|[RPG, First-Perso...|      2|    0|2016-11-26|          true|  2.6|  229137| 11211164|\n",
            "|  1700|Arx Fatalis|  2007-04-03|true|false|false|Very Positive|            86|        1543|       4.99|          4.99|     0.0|      true|This critically a...|[RPG, First-Perso...|      0|    0|2022-06-08|         false|  0.6|13682829| 11211165|\n",
            "|  1700|Arx Fatalis|  2007-04-03|true|false|false|Very Positive|            86|        1543|       4.99|          4.99|     0.0|      true|This critically a...|[RPG, First-Perso...|      2|    0|2018-12-13|          true| 30.2|11845524| 11211167|\n",
            "|  1700|Arx Fatalis|  2007-04-03|true|false|false|Very Positive|            86|        1543|       4.99|          4.99|     0.0|      true|This critically a...|[RPG, First-Perso...|     29|    0|2019-03-09|          true| 30.5|11156288| 11220320|\n",
            "|  1700|Arx Fatalis|  2007-04-03|true|false|false|Very Positive|            86|        1543|       4.99|          4.99|     0.0|      true|This critically a...|[RPG, First-Perso...|      2|    0|2021-08-20|         false|  0.1| 6020463| 11220323|\n",
            "|  1700|Arx Fatalis|  2007-04-03|true|false|false|Very Positive|            86|        1543|       4.99|          4.99|     0.0|      true|This critically a...|[RPG, First-Perso...|     11|    2|2014-11-18|         false| 40.7| 6020017| 11220324|\n",
            "|  1700|Arx Fatalis|  2007-04-03|true|false|false|Very Positive|            86|        1543|       4.99|          4.99|     0.0|      true|This critically a...|[RPG, First-Perso...|      0|    0|2022-08-30|          true| 25.1| 2488543| 11220326|\n",
            "|  1700|Arx Fatalis|  2007-04-03|true|false|false|Very Positive|            86|        1543|       4.99|          4.99|     0.0|      true|This critically a...|[RPG, First-Perso...|      0|    0|2021-09-29|          true| 32.2|13046046| 11220327|\n",
            "|  1700|Arx Fatalis|  2007-04-03|true|false|false|Very Positive|            86|        1543|       4.99|          4.99|     0.0|      true|This critically a...|[RPG, First-Perso...|      0|    0|2021-05-25|          true| 44.4|12134240| 11220329|\n",
            "|  1700|Arx Fatalis|  2007-04-03|true|false|false|Very Positive|            86|        1543|       4.99|          4.99|     0.0|      true|This critically a...|[RPG, First-Perso...|      0|    0|2020-05-15|          true|  5.0| 4823409| 11220330|\n",
            "|  1700|Arx Fatalis|  2007-04-03|true|false|false|Very Positive|            86|        1543|       4.99|          4.99|     0.0|      true|This critically a...|[RPG, First-Perso...|      7|    0|2016-06-28|          true| 19.0|10272294| 11225602|\n",
            "+------+-----------+------------+----+-----+-----+-------------+--------------+------------+-----------+--------------+--------+----------+--------------------+--------------------+-------+-----+----------+--------------+-----+--------+---------+\n",
            "only showing top 20 rows\n",
            "\n"
          ]
        }
      ]
    },
    {
      "cell_type": "code",
      "source": [
        "df.printSchema()"
      ],
      "metadata": {
        "execution": {
          "iopub.status.busy": "2024-01-05T18:49:52.170352Z",
          "iopub.status.idle": "2024-01-05T18:49:52.170934Z",
          "shell.execute_reply.started": "2024-01-05T18:49:52.170644Z",
          "shell.execute_reply": "2024-01-05T18:49:52.170672Z"
        },
        "trusted": true,
        "colab": {
          "base_uri": "https://localhost:8080/"
        },
        "id": "nA79uHTK_P6K",
        "outputId": "68d135fd-e4be-4dfa-c8a0-1a2eb419ea89"
      },
      "execution_count": null,
      "outputs": [
        {
          "output_type": "stream",
          "name": "stdout",
          "text": [
            "root\n",
            " |-- app_id: integer (nullable = true)\n",
            " |-- title: string (nullable = true)\n",
            " |-- date_release: date (nullable = true)\n",
            " |-- win: boolean (nullable = true)\n",
            " |-- mac: boolean (nullable = true)\n",
            " |-- linux: boolean (nullable = true)\n",
            " |-- rating: string (nullable = true)\n",
            " |-- positive_ratio: integer (nullable = true)\n",
            " |-- user_reviews: integer (nullable = true)\n",
            " |-- price_final: double (nullable = true)\n",
            " |-- price_original: double (nullable = true)\n",
            " |-- discount: double (nullable = true)\n",
            " |-- steam_deck: boolean (nullable = true)\n",
            " |-- description: string (nullable = true)\n",
            " |-- tags: array (nullable = true)\n",
            " |    |-- element: string (containsNull = true)\n",
            " |-- helpful: integer (nullable = true)\n",
            " |-- funny: integer (nullable = true)\n",
            " |-- date: date (nullable = true)\n",
            " |-- is_recommended: boolean (nullable = true)\n",
            " |-- hours: double (nullable = true)\n",
            " |-- user_id: integer (nullable = true)\n",
            " |-- review_id: integer (nullable = true)\n",
            "\n"
          ]
        }
      ]
    },
    {
      "cell_type": "code",
      "source": [
        "# Drop specified columns\n",
        "df = df.drop(\"review_id\", \"description\", \"title\")\n",
        "df.printSchema()"
      ],
      "metadata": {
        "execution": {
          "iopub.status.busy": "2024-01-05T18:49:52.172974Z",
          "iopub.status.idle": "2024-01-05T18:49:52.173379Z",
          "shell.execute_reply.started": "2024-01-05T18:49:52.173186Z",
          "shell.execute_reply": "2024-01-05T18:49:52.173205Z"
        },
        "trusted": true,
        "colab": {
          "base_uri": "https://localhost:8080/"
        },
        "id": "c_aTpAjj_P6L",
        "outputId": "4a95299e-86a4-444e-d997-5088c3fa88c1"
      },
      "execution_count": null,
      "outputs": [
        {
          "output_type": "stream",
          "name": "stdout",
          "text": [
            "root\n",
            " |-- app_id: integer (nullable = true)\n",
            " |-- date_release: date (nullable = true)\n",
            " |-- win: boolean (nullable = true)\n",
            " |-- mac: boolean (nullable = true)\n",
            " |-- linux: boolean (nullable = true)\n",
            " |-- rating: string (nullable = true)\n",
            " |-- positive_ratio: integer (nullable = true)\n",
            " |-- user_reviews: integer (nullable = true)\n",
            " |-- price_final: double (nullable = true)\n",
            " |-- price_original: double (nullable = true)\n",
            " |-- discount: double (nullable = true)\n",
            " |-- steam_deck: boolean (nullable = true)\n",
            " |-- tags: array (nullable = true)\n",
            " |    |-- element: string (containsNull = true)\n",
            " |-- helpful: integer (nullable = true)\n",
            " |-- funny: integer (nullable = true)\n",
            " |-- date: date (nullable = true)\n",
            " |-- is_recommended: boolean (nullable = true)\n",
            " |-- hours: double (nullable = true)\n",
            " |-- user_id: integer (nullable = true)\n",
            "\n"
          ]
        }
      ]
    },
    {
      "cell_type": "code",
      "source": [
        "df.show(3)"
      ],
      "metadata": {
        "colab": {
          "base_uri": "https://localhost:8080/"
        },
        "id": "084sKaxtLBfm",
        "outputId": "6128f517-3177-463c-8f33-e2690a9f4968"
      },
      "execution_count": null,
      "outputs": [
        {
          "output_type": "stream",
          "name": "stdout",
          "text": [
            "+------+------------+----+----+-----+---------------+--------------+------------+-----------+--------------+--------+----------+--------------------+-------+-----+----------+--------------+-----+--------+\n",
            "|app_id|date_release| win| mac|linux|         rating|positive_ratio|user_reviews|price_final|price_original|discount|steam_deck|                tags|helpful|funny|      date|is_recommended|hours| user_id|\n",
            "+------+------------+----+----+-----+---------------+--------------+------------+-----------+--------------+--------+----------+--------------------+-------+-----+----------+--------------+-----+--------+\n",
            "|  1500|  2012-04-24|true|true| true|Mostly Positive|            77|         664|       9.99|          9.99|     0.0|      true|[Retro, Atmospher...|      0|    0|2020-02-29|         false|  0.2| 6189977|\n",
            "|  1500|  2012-04-24|true|true| true|Mostly Positive|            77|         664|       9.99|          9.99|     0.0|      true|[Retro, Atmospher...|      0|    0|2017-02-12|          true| 10.5|13392271|\n",
            "|  1500|  2012-04-24|true|true| true|Mostly Positive|            77|         664|       9.99|          9.99|     0.0|      true|[Retro, Atmospher...|      0|    0|2022-01-21|          true|  5.6| 6977454|\n",
            "+------+------------+----+----+-----+---------------+--------------+------------+-----------+--------------+--------+----------+--------------------+-------+-----+----------+--------------+-----+--------+\n",
            "only showing top 3 rows\n",
            "\n"
          ]
        }
      ]
    },
    {
      "cell_type": "code",
      "source": [
        "from typing import Dict, List\n",
        "from pyspark.sql import DataFrame\n",
        "from pyspark.sql import functions as F\n",
        "\n",
        "\n",
        "class PysparkOnehotEncoder:\n",
        "    def __init__(self):\n",
        "        self.conditions: Dict[str, Dict[str, int]] = {}\n",
        "        self.categories: Dict[str, Dict[str, int]] = {}\n",
        "\n",
        "    def fit(self, df: DataFrame, cat_cols: List[str]) -> None:\n",
        "        for col in cat_cols:\n",
        "            cats = df.select(col).distinct().collect()\n",
        "            length = len(cats)\n",
        "            cats: List[str] = [df.select(col).distinct().collect()[cat][0] for cat  in range(length)]\n",
        "\n",
        "            self.conditions[col] = {}\n",
        "            self.categories[col] = {}\n",
        "            for idx, cat in enumerate(cats):\n",
        "                self.conditions[col][f\"{col} == '{cat}'\"] = idx\n",
        "                self.categories[col][cat] = idx # useful for reverse_transform at some point\n",
        "\n",
        "    def predict(self, df: DataFrame) -> DataFrame:\n",
        "        for col, cats_dict in self.categories.items():\n",
        "            for cat, _idx in cats_dict.items():\n",
        "                # Build the dynamic expression using F.when and F.otherwise\n",
        "                expression = F.expr(f\"CASE WHEN {col} == '{cat}' THEN 1 ELSE 0 END\")\n",
        "\n",
        "                # Apply the expression to the DataFrame\n",
        "                df = df.withColumn(str(col) + \"_\" + str(cat), F.lit(0))\n",
        "                df = df.withColumn(str(col) + \"_\" + str(cat), expression)\n",
        "            df = df.drop(col)\n",
        "        return df\n",
        "\n",
        "    def fit_predict(self, df: DataFrame, cat_cols: List[str]):\n",
        "        self.fit(df, cat_cols)\n",
        "        df = self.predict(df)\n",
        "        return df"
      ],
      "metadata": {
        "id": "i_qODgt9LoaY"
      },
      "execution_count": null,
      "outputs": []
    },
    {
      "cell_type": "code",
      "source": [
        "onehot_encoder_raing = PysparkOnehotEncoder()\n",
        "onehot_encoder_raing.fit(df, [\"rating\"])"
      ],
      "metadata": {
        "id": "eX7hKm2ZLrvn"
      },
      "execution_count": null,
      "outputs": []
    },
    {
      "cell_type": "code",
      "source": [
        "df = onehot_encoder_raing.predict(df)"
      ],
      "metadata": {
        "id": "rzI5yewyMTBx"
      },
      "execution_count": null,
      "outputs": []
    },
    {
      "cell_type": "code",
      "source": [
        "df.show(3)"
      ],
      "metadata": {
        "colab": {
          "base_uri": "https://localhost:8080/"
        },
        "id": "sTjcxJNsMDkv",
        "outputId": "bc9cc7a1-c1a0-4d3f-eca4-088168bee6e0"
      },
      "execution_count": null,
      "outputs": [
        {
          "output_type": "stream",
          "name": "stdout",
          "text": [
            "+------+------------+----+----+-----+--------------+------------+-----------+--------------+--------+----------+--------------------+-------+-----+----------+--------------+-----+--------+----------------------+----------------------+--------------------+------------+---------------+------------------------------+--------------------+---------------+------------------------------+\n",
            "|app_id|date_release| win| mac|linux|positive_ratio|user_reviews|price_final|price_original|discount|steam_deck|                tags|helpful|funny|      date|is_recommended|hours| user_id|rating_Mostly Negative|rating_Mostly Positive|rating_Very Positive|rating_Mixed|rating_Positive|rating_Overwhelmingly Positive|rating_Very Negative|rating_Negative|rating_Overwhelmingly Negative|\n",
            "+------+------------+----+----+-----+--------------+------------+-----------+--------------+--------+----------+--------------------+-------+-----+----------+--------------+-----+--------+----------------------+----------------------+--------------------+------------+---------------+------------------------------+--------------------+---------------+------------------------------+\n",
            "|  1500|  2012-04-24|true|true| true|            77|         664|       9.99|          9.99|     0.0|      true|[Retro, Atmospher...|      0|    0|2020-02-29|         false|  0.2| 6189977|                     0|                     1|                   0|           0|              0|                             0|                   0|              0|                             0|\n",
            "|  1500|  2012-04-24|true|true| true|            77|         664|       9.99|          9.99|     0.0|      true|[Retro, Atmospher...|      0|    0|2017-02-12|          true| 10.5|13392271|                     0|                     1|                   0|           0|              0|                             0|                   0|              0|                             0|\n",
            "|  1500|  2012-04-24|true|true| true|            77|         664|       9.99|          9.99|     0.0|      true|[Retro, Atmospher...|      0|    0|2022-01-21|          true|  5.6| 6977454|                     0|                     1|                   0|           0|              0|                             0|                   0|              0|                             0|\n",
            "+------+------------+----+----+-----+--------------+------------+-----------+--------------+--------+----------+--------------------+-------+-----+----------+--------------+-----+--------+----------------------+----------------------+--------------------+------------+---------------+------------------------------+--------------------+---------------+------------------------------+\n",
            "only showing top 3 rows\n",
            "\n"
          ]
        }
      ]
    },
    {
      "cell_type": "code",
      "source": [
        "# Convert 'date_release' and 'date' to UNIX time\n",
        "df = df.withColumn(\"date_release_unix\", unix_timestamp(\"date_release\"))\n",
        "df = df.withColumn(\"date_unix\", unix_timestamp(\"date\"))"
      ],
      "metadata": {
        "id": "2jApoNWzQveP"
      },
      "execution_count": null,
      "outputs": []
    },
    {
      "cell_type": "code",
      "source": [
        "df.show(3)"
      ],
      "metadata": {
        "colab": {
          "base_uri": "https://localhost:8080/"
        },
        "id": "L2XjI65dQ1jI",
        "outputId": "37a75f47-a5bf-4215-a47f-b6242f99a633"
      },
      "execution_count": null,
      "outputs": [
        {
          "output_type": "stream",
          "name": "stdout",
          "text": [
            "+------+------------+----+----+-----+--------------+------------+-----------+--------------+--------+----------+--------------------+-------+-----+----------+--------------+-----+--------+----------------------+----------------------+--------------------+------------+---------------+------------------------------+--------------------+---------------+------------------------------+-----------------+----------+\n",
            "|app_id|date_release| win| mac|linux|positive_ratio|user_reviews|price_final|price_original|discount|steam_deck|                tags|helpful|funny|      date|is_recommended|hours| user_id|rating_Mostly Negative|rating_Mostly Positive|rating_Very Positive|rating_Mixed|rating_Positive|rating_Overwhelmingly Positive|rating_Very Negative|rating_Negative|rating_Overwhelmingly Negative|date_release_unix| date_unix|\n",
            "+------+------------+----+----+-----+--------------+------------+-----------+--------------+--------+----------+--------------------+-------+-----+----------+--------------+-----+--------+----------------------+----------------------+--------------------+------------+---------------+------------------------------+--------------------+---------------+------------------------------+-----------------+----------+\n",
            "|  1500|  2012-04-24|true|true| true|            77|         664|       9.99|          9.99|     0.0|      true|[Retro, Atmospher...|      0|    0|2020-02-29|         false|  0.2| 6189977|                     0|                     1|                   0|           0|              0|                             0|                   0|              0|                             0|       1335225600|1582934400|\n",
            "|  1500|  2012-04-24|true|true| true|            77|         664|       9.99|          9.99|     0.0|      true|[Retro, Atmospher...|      0|    0|2017-02-12|          true| 10.5|13392271|                     0|                     1|                   0|           0|              0|                             0|                   0|              0|                             0|       1335225600|1486857600|\n",
            "|  1500|  2012-04-24|true|true| true|            77|         664|       9.99|          9.99|     0.0|      true|[Retro, Atmospher...|      0|    0|2022-01-21|          true|  5.6| 6977454|                     0|                     1|                   0|           0|              0|                             0|                   0|              0|                             0|       1335225600|1642723200|\n",
            "+------+------------+----+----+-----+--------------+------------+-----------+--------------+--------+----------+--------------------+-------+-----+----------+--------------+-----+--------+----------------------+----------------------+--------------------+------------+---------------+------------------------------+--------------------+---------------+------------------------------+-----------------+----------+\n",
            "only showing top 3 rows\n",
            "\n"
          ]
        }
      ]
    },
    {
      "cell_type": "code",
      "source": [
        "df = df.drop(\"date_release\")"
      ],
      "metadata": {
        "id": "TXaK2vbhSPya"
      },
      "execution_count": null,
      "outputs": []
    },
    {
      "cell_type": "code",
      "source": [
        "df = df.drop(\"date\")"
      ],
      "metadata": {
        "id": "0ip9fm0BSpWf"
      },
      "execution_count": null,
      "outputs": []
    },
    {
      "cell_type": "code",
      "source": [
        "# Convert 'win', 'mac', 'linux', 'steam_deck' to integers (0 or 1)\n",
        "boolean_columns = ['win', 'mac', 'linux', 'steam_deck']\n",
        "for col_name in boolean_columns:\n",
        "    df = df.withColumn(col_name, col(col_name).cast(\"integer\"))\n",
        "df.printSchema()"
      ],
      "metadata": {
        "colab": {
          "base_uri": "https://localhost:8080/"
        },
        "id": "eUJ_-teBQ5tc",
        "outputId": "baf094bb-f570-4c7b-c8e6-5fd79d595b7d"
      },
      "execution_count": null,
      "outputs": [
        {
          "output_type": "stream",
          "name": "stdout",
          "text": [
            "root\n",
            " |-- app_id: integer (nullable = true)\n",
            " |-- win: integer (nullable = true)\n",
            " |-- mac: integer (nullable = true)\n",
            " |-- linux: integer (nullable = true)\n",
            " |-- positive_ratio: integer (nullable = true)\n",
            " |-- user_reviews: integer (nullable = true)\n",
            " |-- price_final: double (nullable = true)\n",
            " |-- price_original: double (nullable = true)\n",
            " |-- discount: double (nullable = true)\n",
            " |-- steam_deck: integer (nullable = true)\n",
            " |-- tags: array (nullable = true)\n",
            " |    |-- element: string (containsNull = true)\n",
            " |-- helpful: integer (nullable = true)\n",
            " |-- funny: integer (nullable = true)\n",
            " |-- is_recommended: boolean (nullable = true)\n",
            " |-- hours: double (nullable = true)\n",
            " |-- user_id: integer (nullable = true)\n",
            " |-- rating_Mostly Negative: integer (nullable = false)\n",
            " |-- rating_Mostly Positive: integer (nullable = false)\n",
            " |-- rating_Very Positive: integer (nullable = false)\n",
            " |-- rating_Mixed: integer (nullable = false)\n",
            " |-- rating_Positive: integer (nullable = false)\n",
            " |-- rating_Overwhelmingly Positive: integer (nullable = false)\n",
            " |-- rating_Very Negative: integer (nullable = false)\n",
            " |-- rating_Negative: integer (nullable = false)\n",
            " |-- rating_Overwhelmingly Negative: integer (nullable = false)\n",
            " |-- date_release_unix: long (nullable = true)\n",
            " |-- date_unix: long (nullable = true)\n",
            "\n"
          ]
        }
      ]
    },
    {
      "cell_type": "code",
      "source": [
        "df.show(3)"
      ],
      "metadata": {
        "colab": {
          "base_uri": "https://localhost:8080/"
        },
        "id": "QdIqVpfgQ6RZ",
        "outputId": "89797d51-b007-4a57-ff39-c0510ee5b3d0"
      },
      "execution_count": null,
      "outputs": [
        {
          "output_type": "stream",
          "name": "stdout",
          "text": [
            "+------+---+---+-----+--------------+------------+-----------+--------------+--------+----------+--------------------+-------+-----+--------------+-----+--------+----------------------+----------------------+--------------------+------------+---------------+------------------------------+--------------------+---------------+------------------------------+-----------------+----------+\n",
            "|app_id|win|mac|linux|positive_ratio|user_reviews|price_final|price_original|discount|steam_deck|                tags|helpful|funny|is_recommended|hours| user_id|rating_Mostly Negative|rating_Mostly Positive|rating_Very Positive|rating_Mixed|rating_Positive|rating_Overwhelmingly Positive|rating_Very Negative|rating_Negative|rating_Overwhelmingly Negative|date_release_unix| date_unix|\n",
            "+------+---+---+-----+--------------+------------+-----------+--------------+--------+----------+--------------------+-------+-----+--------------+-----+--------+----------------------+----------------------+--------------------+------------+---------------+------------------------------+--------------------+---------------+------------------------------+-----------------+----------+\n",
            "|  1500|  1|  1|    1|            77|         664|       9.99|          9.99|     0.0|         1|[Retro, Atmospher...|      0|    0|         false|  0.2| 6189977|                     0|                     1|                   0|           0|              0|                             0|                   0|              0|                             0|       1335225600|1582934400|\n",
            "|  1500|  1|  1|    1|            77|         664|       9.99|          9.99|     0.0|         1|[Retro, Atmospher...|      0|    0|          true| 10.5|13392271|                     0|                     1|                   0|           0|              0|                             0|                   0|              0|                             0|       1335225600|1486857600|\n",
            "|  1500|  1|  1|    1|            77|         664|       9.99|          9.99|     0.0|         1|[Retro, Atmospher...|      0|    0|          true|  5.6| 6977454|                     0|                     1|                   0|           0|              0|                             0|                   0|              0|                             0|       1335225600|1642723200|\n",
            "+------+---+---+-----+--------------+------------+-----------+--------------+--------+----------+--------------------+-------+-----+--------------+-----+--------+----------------------+----------------------+--------------------+------------+---------------+------------------------------+--------------------+---------------+------------------------------+-----------------+----------+\n",
            "only showing top 3 rows\n",
            "\n"
          ]
        }
      ]
    },
    {
      "cell_type": "code",
      "source": [
        "boolean_columns = ['is_recommended']\n",
        "for col_name in boolean_columns:\n",
        "    df = df.withColumn(col_name, col(col_name).cast(\"integer\"))\n",
        "df.printSchema()"
      ],
      "metadata": {
        "colab": {
          "base_uri": "https://localhost:8080/"
        },
        "id": "o3Z23yUGSwmK",
        "outputId": "79721660-5bc0-45f0-f5e5-fbf5b12d6e2e"
      },
      "execution_count": null,
      "outputs": [
        {
          "output_type": "stream",
          "name": "stdout",
          "text": [
            "root\n",
            " |-- app_id: integer (nullable = true)\n",
            " |-- win: integer (nullable = true)\n",
            " |-- mac: integer (nullable = true)\n",
            " |-- linux: integer (nullable = true)\n",
            " |-- positive_ratio: integer (nullable = true)\n",
            " |-- user_reviews: integer (nullable = true)\n",
            " |-- price_final: double (nullable = true)\n",
            " |-- price_original: double (nullable = true)\n",
            " |-- discount: double (nullable = true)\n",
            " |-- steam_deck: integer (nullable = true)\n",
            " |-- tags: array (nullable = true)\n",
            " |    |-- element: string (containsNull = true)\n",
            " |-- helpful: integer (nullable = true)\n",
            " |-- funny: integer (nullable = true)\n",
            " |-- is_recommended: integer (nullable = true)\n",
            " |-- hours: double (nullable = true)\n",
            " |-- user_id: integer (nullable = true)\n",
            " |-- rating_Mostly Negative: integer (nullable = false)\n",
            " |-- rating_Mostly Positive: integer (nullable = false)\n",
            " |-- rating_Very Positive: integer (nullable = false)\n",
            " |-- rating_Mixed: integer (nullable = false)\n",
            " |-- rating_Positive: integer (nullable = false)\n",
            " |-- rating_Overwhelmingly Positive: integer (nullable = false)\n",
            " |-- rating_Very Negative: integer (nullable = false)\n",
            " |-- rating_Negative: integer (nullable = false)\n",
            " |-- rating_Overwhelmingly Negative: integer (nullable = false)\n",
            " |-- date_release_unix: long (nullable = true)\n",
            " |-- date_unix: long (nullable = true)\n",
            "\n"
          ]
        }
      ]
    },
    {
      "cell_type": "code",
      "source": [
        "df.printSchema()"
      ],
      "metadata": {
        "execution": {
          "iopub.status.busy": "2024-01-05T18:49:52.181239Z",
          "iopub.status.idle": "2024-01-05T18:49:52.181649Z",
          "shell.execute_reply.started": "2024-01-05T18:49:52.181435Z",
          "shell.execute_reply": "2024-01-05T18:49:52.181454Z"
        },
        "trusted": true,
        "id": "bej46eG0_P6M",
        "colab": {
          "base_uri": "https://localhost:8080/"
        },
        "outputId": "eae529ad-f4c0-42fb-ed9b-d80e6195cff8"
      },
      "execution_count": null,
      "outputs": [
        {
          "output_type": "stream",
          "name": "stdout",
          "text": [
            "root\n",
            " |-- app_id: integer (nullable = true)\n",
            " |-- win: integer (nullable = true)\n",
            " |-- mac: integer (nullable = true)\n",
            " |-- linux: integer (nullable = true)\n",
            " |-- positive_ratio: integer (nullable = true)\n",
            " |-- user_reviews: integer (nullable = true)\n",
            " |-- price_final: double (nullable = true)\n",
            " |-- price_original: double (nullable = true)\n",
            " |-- discount: double (nullable = true)\n",
            " |-- steam_deck: integer (nullable = true)\n",
            " |-- tags: array (nullable = true)\n",
            " |    |-- element: string (containsNull = true)\n",
            " |-- helpful: integer (nullable = true)\n",
            " |-- funny: integer (nullable = true)\n",
            " |-- is_recommended: integer (nullable = true)\n",
            " |-- hours: double (nullable = true)\n",
            " |-- user_id: integer (nullable = true)\n",
            " |-- rating_Mostly Negative: integer (nullable = false)\n",
            " |-- rating_Mostly Positive: integer (nullable = false)\n",
            " |-- rating_Very Positive: integer (nullable = false)\n",
            " |-- rating_Mixed: integer (nullable = false)\n",
            " |-- rating_Positive: integer (nullable = false)\n",
            " |-- rating_Overwhelmingly Positive: integer (nullable = false)\n",
            " |-- rating_Very Negative: integer (nullable = false)\n",
            " |-- rating_Negative: integer (nullable = false)\n",
            " |-- rating_Overwhelmingly Negative: integer (nullable = false)\n",
            " |-- date_release_unix: long (nullable = true)\n",
            " |-- date_unix: long (nullable = true)\n",
            "\n"
          ]
        }
      ]
    },
    {
      "cell_type": "code",
      "source": [
        "from pyspark.sql import functions as F\n",
        "\n",
        "# Define the conditions for each rating\n",
        "conditions = [\n",
        "    (F.col(\"rating_Overwhelmingly Positive\") == 1, 8),\n",
        "    (F.col(\"rating_Very Positive\") == 1, 7),\n",
        "    (F.col(\"rating_Mostly Positive\") == 1, 6),\n",
        "    (F.col(\"rating_Positive\") == 1, 5),\n",
        "    (F.col(\"rating_Mixed\") == 1, 4),\n",
        "    (F.col(\"rating_Negative\") == 1, 3),\n",
        "    (F.col(\"rating_Mostly Negative\") == 1, 2),\n",
        "    (F.col(\"rating_Very Negative\") == 1, 1),\n",
        "    (F.col(\"rating_Overwhelmingly Negative\") == 1, 0)\n",
        "]\n",
        "\n",
        "# Apply the conditions to create the new column\n",
        "df = df.withColumn(\"rating_value\", F.coalesce(*[F.when(cond, val) for cond, val in conditions]))\n",
        "\n",
        "# Show the updated DataFrame schema\n",
        "df.printSchema()\n"
      ],
      "metadata": {
        "execution": {
          "iopub.status.busy": "2024-01-05T18:49:52.182879Z",
          "iopub.status.idle": "2024-01-05T18:49:52.183272Z",
          "shell.execute_reply.started": "2024-01-05T18:49:52.183079Z",
          "shell.execute_reply": "2024-01-05T18:49:52.183098Z"
        },
        "trusted": true,
        "id": "TcXUfGsP_P6M",
        "colab": {
          "base_uri": "https://localhost:8080/"
        },
        "outputId": "8baccafb-2911-4772-d84d-10b7f03cc073"
      },
      "execution_count": null,
      "outputs": [
        {
          "output_type": "stream",
          "name": "stdout",
          "text": [
            "root\n",
            " |-- app_id: integer (nullable = true)\n",
            " |-- win: integer (nullable = true)\n",
            " |-- mac: integer (nullable = true)\n",
            " |-- linux: integer (nullable = true)\n",
            " |-- positive_ratio: integer (nullable = true)\n",
            " |-- user_reviews: integer (nullable = true)\n",
            " |-- price_final: double (nullable = true)\n",
            " |-- price_original: double (nullable = true)\n",
            " |-- discount: double (nullable = true)\n",
            " |-- steam_deck: integer (nullable = true)\n",
            " |-- tags: array (nullable = true)\n",
            " |    |-- element: string (containsNull = true)\n",
            " |-- helpful: integer (nullable = true)\n",
            " |-- funny: integer (nullable = true)\n",
            " |-- is_recommended: integer (nullable = true)\n",
            " |-- hours: double (nullable = true)\n",
            " |-- user_id: integer (nullable = true)\n",
            " |-- rating_Mostly Negative: integer (nullable = false)\n",
            " |-- rating_Mostly Positive: integer (nullable = false)\n",
            " |-- rating_Very Positive: integer (nullable = false)\n",
            " |-- rating_Mixed: integer (nullable = false)\n",
            " |-- rating_Positive: integer (nullable = false)\n",
            " |-- rating_Overwhelmingly Positive: integer (nullable = false)\n",
            " |-- rating_Very Negative: integer (nullable = false)\n",
            " |-- rating_Negative: integer (nullable = false)\n",
            " |-- rating_Overwhelmingly Negative: integer (nullable = false)\n",
            " |-- date_release_unix: long (nullable = true)\n",
            " |-- date_unix: long (nullable = true)\n",
            " |-- rating_value: integer (nullable = true)\n",
            "\n"
          ]
        }
      ]
    },
    {
      "cell_type": "code",
      "source": [
        "df_clean = df.drop(\"rating_Overwhelmingly Negative\", \"rating_Negative\", \"rating_Overwhelmingly Positive\",\"rating_Positive\",\"rating_Mixed\", \"rating_Very Positive\",\"rating_Mostly Positive\",\"rating_Mostly Negative\")\n",
        "df_clean.printSchema()"
      ],
      "metadata": {
        "colab": {
          "base_uri": "https://localhost:8080/"
        },
        "id": "UkZqyBzS4RHZ",
        "outputId": "8807eef8-ec5d-4f87-9d9c-14ea64b900a8"
      },
      "execution_count": null,
      "outputs": [
        {
          "output_type": "stream",
          "name": "stdout",
          "text": [
            "root\n",
            " |-- app_id: integer (nullable = true)\n",
            " |-- win: integer (nullable = true)\n",
            " |-- mac: integer (nullable = true)\n",
            " |-- linux: integer (nullable = true)\n",
            " |-- positive_ratio: integer (nullable = true)\n",
            " |-- user_reviews: integer (nullable = true)\n",
            " |-- price_final: double (nullable = true)\n",
            " |-- price_original: double (nullable = true)\n",
            " |-- discount: double (nullable = true)\n",
            " |-- steam_deck: integer (nullable = true)\n",
            " |-- tags: array (nullable = true)\n",
            " |    |-- element: string (containsNull = true)\n",
            " |-- helpful: integer (nullable = true)\n",
            " |-- funny: integer (nullable = true)\n",
            " |-- is_recommended: integer (nullable = true)\n",
            " |-- hours: double (nullable = true)\n",
            " |-- user_id: integer (nullable = true)\n",
            " |-- rating_Very Negative: integer (nullable = false)\n",
            " |-- date_release_unix: long (nullable = true)\n",
            " |-- date_unix: long (nullable = true)\n",
            " |-- rating_value: integer (nullable = true)\n",
            "\n"
          ]
        }
      ]
    },
    {
      "cell_type": "code",
      "source": [
        "df_clean = df_clean.drop(\"tags\")\n",
        "df_clean.printSchema()"
      ],
      "metadata": {
        "colab": {
          "base_uri": "https://localhost:8080/"
        },
        "id": "apeyhGQn4oAR",
        "outputId": "39156d97-178c-4c6b-ae0f-66be61271042"
      },
      "execution_count": null,
      "outputs": [
        {
          "output_type": "stream",
          "name": "stdout",
          "text": [
            "root\n",
            " |-- app_id: integer (nullable = true)\n",
            " |-- win: integer (nullable = true)\n",
            " |-- mac: integer (nullable = true)\n",
            " |-- linux: integer (nullable = true)\n",
            " |-- positive_ratio: integer (nullable = true)\n",
            " |-- user_reviews: integer (nullable = true)\n",
            " |-- price_final: double (nullable = true)\n",
            " |-- price_original: double (nullable = true)\n",
            " |-- discount: double (nullable = true)\n",
            " |-- steam_deck: integer (nullable = true)\n",
            " |-- helpful: integer (nullable = true)\n",
            " |-- funny: integer (nullable = true)\n",
            " |-- is_recommended: integer (nullable = true)\n",
            " |-- hours: double (nullable = true)\n",
            " |-- user_id: integer (nullable = true)\n",
            " |-- rating_Very Negative: integer (nullable = false)\n",
            " |-- date_release_unix: long (nullable = true)\n",
            " |-- date_unix: long (nullable = true)\n",
            " |-- rating_value: integer (nullable = true)\n",
            "\n"
          ]
        }
      ]
    },
    {
      "cell_type": "code",
      "source": [
        "df_clean_ = df_clean.drop('app_id')\n",
        "df_clean_.printSchema()"
      ],
      "metadata": {
        "colab": {
          "base_uri": "https://localhost:8080/"
        },
        "id": "SsdCpl5Q6OCC",
        "outputId": "61e571dd-dda7-4815-ca9e-8fce392e3b9d"
      },
      "execution_count": null,
      "outputs": [
        {
          "output_type": "stream",
          "name": "stdout",
          "text": [
            "root\n",
            " |-- win: integer (nullable = true)\n",
            " |-- mac: integer (nullable = true)\n",
            " |-- linux: integer (nullable = true)\n",
            " |-- positive_ratio: integer (nullable = true)\n",
            " |-- user_reviews: integer (nullable = true)\n",
            " |-- price_final: double (nullable = true)\n",
            " |-- price_original: double (nullable = true)\n",
            " |-- discount: double (nullable = true)\n",
            " |-- steam_deck: integer (nullable = true)\n",
            " |-- helpful: integer (nullable = true)\n",
            " |-- funny: integer (nullable = true)\n",
            " |-- is_recommended: integer (nullable = true)\n",
            " |-- hours: double (nullable = true)\n",
            " |-- user_id: integer (nullable = true)\n",
            " |-- rating_Very Negative: integer (nullable = false)\n",
            " |-- date_release_unix: long (nullable = true)\n",
            " |-- date_unix: long (nullable = true)\n",
            " |-- rating_value: integer (nullable = true)\n",
            "\n"
          ]
        }
      ]
    },
    {
      "cell_type": "code",
      "source": [
        "df.show(3)"
      ],
      "metadata": {
        "id": "h8LxuqUB_P6M",
        "colab": {
          "base_uri": "https://localhost:8080/"
        },
        "outputId": "6d544d3c-c4b8-4be1-b7dd-538049575deb"
      },
      "execution_count": null,
      "outputs": [
        {
          "output_type": "stream",
          "name": "stdout",
          "text": [
            "+------+---+---+-----+--------------+------------+-----------+--------------+--------+----------+--------------------+-------+-----+--------------+-----+--------+----------------------+----------------------+--------------------+------------+---------------+------------------------------+--------------------+---------------+------------------------------+-----------------+----------+------------+\n",
            "|app_id|win|mac|linux|positive_ratio|user_reviews|price_final|price_original|discount|steam_deck|                tags|helpful|funny|is_recommended|hours| user_id|rating_Mostly Negative|rating_Mostly Positive|rating_Very Positive|rating_Mixed|rating_Positive|rating_Overwhelmingly Positive|rating_Very Negative|rating_Negative|rating_Overwhelmingly Negative|date_release_unix| date_unix|rating_value|\n",
            "+------+---+---+-----+--------------+------------+-----------+--------------+--------+----------+--------------------+-------+-----+--------------+-----+--------+----------------------+----------------------+--------------------+------------+---------------+------------------------------+--------------------+---------------+------------------------------+-----------------+----------+------------+\n",
            "|  1500|  1|  1|    1|            77|         664|       9.99|          9.99|     0.0|         1|[Retro, Atmospher...|      0|    0|             0|  0.2| 6189977|                     0|                     1|                   0|           0|              0|                             0|                   0|              0|                             0|       1335225600|1582934400|           6|\n",
            "|  1500|  1|  1|    1|            77|         664|       9.99|          9.99|     0.0|         1|[Retro, Atmospher...|      0|    0|             1| 10.5|13392271|                     0|                     1|                   0|           0|              0|                             0|                   0|              0|                             0|       1335225600|1486857600|           6|\n",
            "|  1500|  1|  1|    1|            77|         664|       9.99|          9.99|     0.0|         1|[Retro, Atmospher...|      0|    0|             1|  5.6| 6977454|                     0|                     1|                   0|           0|              0|                             0|                   0|              0|                             0|       1335225600|1642723200|           6|\n",
            "+------+---+---+-----+--------------+------------+-----------+--------------+--------+----------+--------------------+-------+-----+--------------+-----+--------+----------------------+----------------------+--------------------+------------+---------------+------------------------------+--------------------+---------------+------------------------------+-----------------+----------+------------+\n",
            "only showing top 3 rows\n",
            "\n"
          ]
        }
      ]
    },
    {
      "cell_type": "code",
      "source": [
        "df_no_user_id = df.drop(\"user_id\")\n",
        "df_no_userid_movieid = df.drop(\"user_id\",\"app_id\")\n"
      ],
      "metadata": {
        "execution": {
          "iopub.status.busy": "2024-01-05T18:49:52.188132Z",
          "iopub.status.idle": "2024-01-05T18:49:52.188523Z",
          "shell.execute_reply.started": "2024-01-05T18:49:52.188325Z",
          "shell.execute_reply": "2024-01-05T18:49:52.188343Z"
        },
        "trusted": true,
        "id": "vgQjbmcd_P6N"
      },
      "execution_count": null,
      "outputs": []
    },
    {
      "cell_type": "markdown",
      "source": [
        "# Joint Exploration"
      ],
      "metadata": {
        "id": "9u7WIR1W_P6N"
      }
    },
    {
      "cell_type": "code",
      "source": [
        "exploded_df = games_meta_df.select(\"tags\").withColumn(\"tag\", explode(col(\"tags\")))\n",
        "\n",
        "# Count the occurrences of each tag\n",
        "tag_counts = exploded_df.groupBy(\"tag\").count().orderBy(\"count\", ascending=False)\n",
        "\n",
        "# Collect the data to the driver node for plotting\n",
        "tag_counts_pd = tag_counts.limit(10).toPandas()\n",
        "\n",
        "# Create a pie chart\n",
        "fig, ax = plt.subplots()\n",
        "plt.title('Most Reviewed Game Tags')\n",
        "ax.pie(tag_counts_pd['count'], labels=tag_counts_pd['tag'], autopct='%1.1f%%')\n",
        "plt.show()"
      ],
      "metadata": {
        "execution": {
          "iopub.status.busy": "2024-01-05T18:49:52.189596Z",
          "iopub.status.idle": "2024-01-05T18:49:52.189988Z",
          "shell.execute_reply.started": "2024-01-05T18:49:52.189794Z",
          "shell.execute_reply": "2024-01-05T18:49:52.189813Z"
        },
        "trusted": true,
        "colab": {
          "base_uri": "https://localhost:8080/",
          "height": 428
        },
        "id": "quRWtJTu_P6N",
        "outputId": "6f5e2c0d-8282-4cfc-990f-a2b39ededdb6"
      },
      "execution_count": null,
      "outputs": [
        {
          "output_type": "display_data",
          "data": {
            "text/plain": [
              "<Figure size 640x480 with 1 Axes>"
            ],
            "image/png": "[encoded data removed]"
          },
          "metadata": {}
        }
      ]
    },
    {
      "cell_type": "markdown",
      "source": [
        "Seems like the most reviewd type is indie, single player, actoin."
      ],
      "metadata": {
        "id": "mFpnB3fJ_P6N"
      }
    },
    {
      "cell_type": "code",
      "source": [
        "games_df.show()"
      ],
      "metadata": {
        "execution": {
          "iopub.status.busy": "2024-01-05T18:49:52.191249Z",
          "iopub.status.idle": "2024-01-05T18:49:52.191687Z",
          "shell.execute_reply.started": "2024-01-05T18:49:52.191466Z",
          "shell.execute_reply": "2024-01-05T18:49:52.191485Z"
        },
        "trusted": true,
        "colab": {
          "base_uri": "https://localhost:8080/"
        },
        "id": "Oq0ZQggM_P6N",
        "outputId": "be8a7de3-5a04-4fe5-8bd8-38aae894e3f2"
      },
      "execution_count": null,
      "outputs": [
        {
          "output_type": "stream",
          "name": "stdout",
          "text": [
            "+------+--------------------+------------+----+-----+-----+---------------+--------------+------------+-----------+--------------+--------+----------+\n",
            "|app_id|               title|date_release| win|  mac|linux|         rating|positive_ratio|user_reviews|price_final|price_original|discount|steam_deck|\n",
            "+------+--------------------+------------+----+-----+-----+---------------+--------------+------------+-----------+--------------+--------+----------+\n",
            "| 13500|Prince of Persia:...|  2008-11-21|true|false|false|  Very Positive|            84|        2199|       9.99|          9.99|     0.0|      true|\n",
            "| 22364|BRINK: Agents of ...|  2011-08-03|true|false|false|       Positive|            85|          21|       2.99|          2.99|     0.0|      true|\n",
            "|113020|Monaco: What's Yo...|  2013-04-24|true| true| true|  Very Positive|            92|        3722|      14.99|         14.99|     0.0|      true|\n",
            "|226560|  Escape Dead Island|  2014-11-18|true|false|false|          Mixed|            61|         873|      14.99|         14.99|     0.0|      true|\n",
            "|249050|Dungeon of the EN...|  2014-10-27|true| true|false|  Very Positive|            88|        8784|      11.99|         11.99|     0.0|      true|\n",
            "|250180|        METAL SLUG 3|  2015-09-14|true|false|false|  Very Positive|            90|        5579|       7.99|          7.99|     0.0|      true|\n",
            "|253980|             Enclave|  2013-10-04|true| true| true|Mostly Positive|            75|        1608|       4.99|          4.99|     0.0|      true|\n",
            "|271850|Men of War: Assau...|  2014-05-16|true|false|false|          Mixed|            61|         199|       6.99|          6.99|     0.0|      true|\n",
            "|282900|Hyperdimension Ne...|  2015-01-29|true|false|false|  Very Positive|            94|        9686|      14.99|         14.99|     0.0|      true|\n",
            "| 19810|The Sum of All Fears|  2008-10-10|true|false|false|Mostly Positive|            75|          33|       9.99|          9.99|     0.0|      true|\n",
            "| 15270|          Cold Fear™|  2008-05-13|true|false|false|  Very Positive|            85|         800|       9.99|          9.99|     0.0|      true|\n",
            "| 21130|LEGO® Harry Potte...|  2010-06-25|true|false|false|  Very Positive|            85|        5169|      19.99|         19.99|     0.0|      true|\n",
            "| 22130|Hearts of Iron 2 ...|  2009-01-23|true|false|false|  Very Positive|            85|         462|      14.99|         14.99|     0.0|      true|\n",
            "| 29180|               Osmos|  2009-08-18|true| true| true|  Very Positive|            88|         532|       9.99|          9.99|     0.0|      true|\n",
            "| 32750|          Comanche 4|  2009-06-18|true|false|false|  Very Positive|            90|         222|       9.99|          9.99|     0.0|      true|\n",
            "|241620|          Inquisitor|  2013-08-01|true|false|false|Mostly Positive|            70|         390|       9.99|          9.99|     0.0|      true|\n",
            "|408520|                FORM|  2017-06-01|true|false|false|  Very Positive|            91|         934|      14.99|         14.99|     0.0|      true|\n",
            "|244910|            Homesick|  2015-05-28|true|false|false|Mostly Positive|            77|        1139|      14.99|         14.99|     0.0|      true|\n",
            "|245950|Borderlands 2: He...|  2014-02-11|true| true| true|  Very Positive|            84|         294|       0.89|          2.99|    70.0|      true|\n",
            "|250460|  Bridge Constructor|  2013-10-16|true| true| true|Mostly Positive|            77|         716|       2.39|         19.99|    88.0|      true|\n",
            "+------+--------------------+------------+----+-----+-----+---------------+--------------+------------+-----------+--------------+--------+----------+\n",
            "only showing top 20 rows\n",
            "\n"
          ]
        }
      ]
    },
    {
      "cell_type": "code",
      "source": [
        "from pyspark.sql.functions import col\n",
        "import matplotlib.pyplot as plt\n",
        "\n",
        "# Count the number of occurrences of each rating\n",
        "count_ratings_df = games_df.groupBy(\"rating\").count()\n",
        "\n",
        "# Collect the data to the driver node for plotting\n",
        "count_ratings_pd = count_ratings_df.toPandas()\n",
        "\n",
        "# Visualization in a pie chart\n",
        "count_ratings_pd.set_index(\"rating\")['count'].plot(kind='pie', autopct='%1.1f%%')\n",
        "plt.axis('equal')\n",
        "plt.title('Distribution of Game Ratings')\n",
        "plt.show()\n"
      ],
      "metadata": {
        "execution": {
          "iopub.status.busy": "2024-01-05T18:49:52.192941Z",
          "iopub.status.idle": "2024-01-05T18:49:52.193347Z",
          "shell.execute_reply.started": "2024-01-05T18:49:52.193146Z",
          "shell.execute_reply": "2024-01-05T18:49:52.193164Z"
        },
        "trusted": true,
        "colab": {
          "base_uri": "https://localhost:8080/",
          "height": 428
        },
        "id": "PqLNYVoT_P6N",
        "outputId": "b3b098d4-6aac-424d-b6c8-3ad920d23384"
      },
      "execution_count": null,
      "outputs": [
        {
          "output_type": "display_data",
          "data": {
            "text/plain": [
              "<Figure size 640x480 with 1 Axes>"
            ],
            "image/png": "[encoded data removed]"
          },
          "metadata": {}
        }
      ]
    },
    {
      "cell_type": "markdown",
      "source": [
        "seems like most of the review were very positive the mixed, then mostly positive"
      ],
      "metadata": {
        "id": "dXhFmmsc_P6O"
      }
    },
    {
      "cell_type": "code",
      "source": [
        "from pyspark.sql.functions import year, col\n",
        "import matplotlib.pyplot as plt\n",
        "\n",
        "# Convert the release date column to datetime type\n",
        "games_df = games_df.withColumn(\"date_release\", col(\"date_release\").cast(\"timestamp\"))\n",
        "\n",
        "# Counting games by year of release\n",
        "count_release_year_df = games_df.groupBy(year(\"date_release\").alias(\"year\")).count().orderBy(\"year\")\n",
        "\n",
        "# Collect the data to the driver node for plotting\n",
        "count_release_year_pd = count_release_year_df.toPandas()\n",
        "\n",
        "# Visualization in a line chart\n",
        "count_release_year_pd.plot(kind='line', x='year', y='count', marker='o')\n",
        "plt.xlabel('Year of Release')\n",
        "plt.ylabel('Count')\n",
        "plt.title('Distribution of Games by Year of Release')\n",
        "plt.show()\n"
      ],
      "metadata": {
        "execution": {
          "iopub.status.busy": "2024-01-05T18:49:52.194666Z",
          "iopub.status.idle": "2024-01-05T18:49:52.195057Z",
          "shell.execute_reply.started": "2024-01-05T18:49:52.194860Z",
          "shell.execute_reply": "2024-01-05T18:49:52.194878Z"
        },
        "trusted": true,
        "colab": {
          "base_uri": "https://localhost:8080/",
          "height": 472
        },
        "id": "hzwc9CmD_P6O",
        "outputId": "aaf97993-1331-4316-e24c-11ab00044c8c"
      },
      "execution_count": null,
      "outputs": [
        {
          "output_type": "display_data",
          "data": {
            "text/plain": [
              "<Figure size 640x480 with 1 Axes>"
            ],
            "image/png": "[encoded data removed]"
          },
          "metadata": {}
        }
      ]
    },
    {
      "cell_type": "markdown",
      "source": [
        "there were huge number of games producec in 2020"
      ],
      "metadata": {
        "id": "TYxSQgIp_P6O"
      }
    },
    {
      "cell_type": "code",
      "source": [
        "from pyspark.sql.functions import col\n",
        "import matplotlib.pyplot as plt\n",
        "\n",
        "# Count the occurrences of recommended and not recommended values\n",
        "recomendados_df = recommendation_df.groupBy(\"is_recommended\").count()\n",
        "\n",
        "# Collect the data to the driver node for plotting\n",
        "recomendados_pd = recomendados_df.toPandas()\n",
        "\n",
        "# Visualization in a pie chart\n",
        "recomendados_pd.set_index(\"is_recommended\")['count'].plot(kind='pie', autopct='%1.1f%%', labels=['Recommended', 'Not Recommended'])\n",
        "plt.axis('equal')\n",
        "plt.title('Distribution of Recommended Ratings')\n",
        "plt.show()\n"
      ],
      "metadata": {
        "execution": {
          "iopub.status.busy": "2024-01-05T18:49:52.196065Z",
          "iopub.status.idle": "2024-01-05T18:49:52.196438Z",
          "shell.execute_reply.started": "2024-01-05T18:49:52.196254Z",
          "shell.execute_reply": "2024-01-05T18:49:52.196272Z"
        },
        "trusted": true,
        "colab": {
          "base_uri": "https://localhost:8080/",
          "height": 428
        },
        "id": "1uQMsIhF_P6O",
        "outputId": "e52ccf6f-4a34-41df-ebdd-a9b84d843aea"
      },
      "execution_count": null,
      "outputs": [
        {
          "output_type": "display_data",
          "data": {
            "text/plain": [
              "<Figure size 640x480 with 1 Axes>"
            ],
            "image/png": "[encoded data removed]"
          },
          "metadata": {}
        }
      ]
    },
    {
      "cell_type": "markdown",
      "source": [
        "data is not balanced"
      ],
      "metadata": {
        "id": "gejgBqiE_P6O"
      }
    },
    {
      "cell_type": "code",
      "source": [
        "df.show(5)"
      ],
      "metadata": {
        "colab": {
          "base_uri": "https://localhost:8080/"
        },
        "id": "X0L4VBAUgpQd",
        "outputId": "f1dbc7ab-4627-491f-9aca-6707596e5f8f"
      },
      "execution_count": null,
      "outputs": [
        {
          "output_type": "stream",
          "name": "stdout",
          "text": [
            "+------+---+---+-----+--------------+------------+-----------+--------------+--------+----------+--------------------+-------+-----+--------------+-----+--------+----------------------+----------------------+--------------------+------------+---------------+------------------------------+--------------------+---------------+------------------------------+-----------------+----------+------------+\n",
            "|app_id|win|mac|linux|positive_ratio|user_reviews|price_final|price_original|discount|steam_deck|                tags|helpful|funny|is_recommended|hours| user_id|rating_Mostly Negative|rating_Mostly Positive|rating_Very Positive|rating_Mixed|rating_Positive|rating_Overwhelmingly Positive|rating_Very Negative|rating_Negative|rating_Overwhelmingly Negative|date_release_unix| date_unix|rating_value|\n",
            "+------+---+---+-----+--------------+------------+-----------+--------------+--------+----------+--------------------+-------+-----+--------------+-----+--------+----------------------+----------------------+--------------------+------------+---------------+------------------------------+--------------------+---------------+------------------------------+-----------------+----------+------------+\n",
            "|  1500|  1|  1|    1|            77|         664|       9.99|          9.99|     0.0|         1|[Retro, Atmospher...|      0|    0|             0|  0.2| 6189977|                     0|                     1|                   0|           0|              0|                             0|                   0|              0|                             0|       1335225600|1582934400|           6|\n",
            "|  1500|  1|  1|    1|            77|         664|       9.99|          9.99|     0.0|         1|[Retro, Atmospher...|      0|    0|             1| 10.5|13392271|                     0|                     1|                   0|           0|              0|                             0|                   0|              0|                             0|       1335225600|1486857600|           6|\n",
            "|  1500|  1|  1|    1|            77|         664|       9.99|          9.99|     0.0|         1|[Retro, Atmospher...|      0|    0|             1|  5.6| 6977454|                     0|                     1|                   0|           0|              0|                             0|                   0|              0|                             0|       1335225600|1642723200|           6|\n",
            "|  1500|  1|  1|    1|            77|         664|       9.99|          9.99|     0.0|         1|[Retro, Atmospher...|      0|    0|             1| 34.7|10014129|                     0|                     1|                   0|           0|              0|                             0|                   0|              0|                             0|       1335225600|1482710400|           6|\n",
            "|  1500|  1|  1|    1|            77|         664|       9.99|          9.99|     0.0|         1|[Retro, Atmospher...|      0|    0|             1| 10.0|11147381|                     0|                     1|                   0|           0|              0|                             0|                   0|              0|                             0|       1335225600|1363392000|           6|\n",
            "+------+---+---+-----+--------------+------------+-----------+--------------+--------+----------+--------------------+-------+-----+--------------+-----+--------+----------------------+----------------------+--------------------+------------+---------------+------------------------------+--------------------+---------------+------------------------------+-----------------+----------+------------+\n",
            "only showing top 5 rows\n",
            "\n"
          ]
        }
      ]
    },
    {
      "cell_type": "code",
      "source": [
        "# column_names = df.columns\n",
        "\n",
        "# # Drop the second occurrence of the column 'name'\n",
        "# new_df = df.drop(column_names[column_names.index('app_id', column_names.index('app_id') + 1)])\n"
      ],
      "metadata": {
        "id": "EYpEMqNGjYPi"
      },
      "execution_count": null,
      "outputs": []
    },
    {
      "cell_type": "code",
      "source": [
        "# selected_columns = df.select( \"app_id\"[0])"
      ],
      "metadata": {
        "id": "6AB4D-Iykmmg"
      },
      "execution_count": null,
      "outputs": []
    },
    {
      "cell_type": "markdown",
      "source": [
        "# 5.0 ALS model"
      ],
      "metadata": {
        "id": "PciOSBPtuKEr"
      }
    },
    {
      "cell_type": "code",
      "source": [
        "from pyspark.ml.recommendation import ALS\n",
        "train_data, test_data = df_clean.randomSplit([0.8,0.2])\n",
        "train_data_sample = train_data.sample(fraction=0.1, seed=42)\n"
      ],
      "metadata": {
        "id": "FhANTE7KGyzw"
      },
      "execution_count": null,
      "outputs": []
    },
    {
      "cell_type": "code",
      "source": [
        "als=ALS(userCol='user_id',itemCol='app_id',ratingCol='rating_value',nonnegative=True,coldStartStrategy='drop', rank =10)\n",
        "model=als.fit(train_data_sample)\n",
        "predictions=model.transform(test_data)"
      ],
      "metadata": {
        "id": "vLum9U0fhTSV"
      },
      "execution_count": null,
      "outputs": []
    },
    {
      "cell_type": "code",
      "source": [
        "test_data.show()"
      ],
      "metadata": {
        "colab": {
          "base_uri": "https://localhost:8080/"
        },
        "id": "OO9-cQu6UHAW",
        "outputId": "4be4805d-e84d-46f0-9f57-e77c3bf86bb9"
      },
      "execution_count": null,
      "outputs": [
        {
          "output_type": "stream",
          "name": "stdout",
          "text": [
            "+------+---+---+-----+--------------+------------+-----------+--------------+--------+----------+-------+-----+--------------+-----+--------+--------------------+-----------------+----------+------------+\n",
            "|app_id|win|mac|linux|positive_ratio|user_reviews|price_final|price_original|discount|steam_deck|helpful|funny|is_recommended|hours| user_id|rating_Very Negative|date_release_unix| date_unix|rating_value|\n",
            "+------+---+---+-----+--------------+------------+-----------+--------------+--------+----------+-------+-----+--------------+-----+--------+--------------------+-----------------+----------+------------+\n",
            "|   240|  1|  1|    1|            96|      103720|       9.99|          9.99|     0.0|         1|      0|    0|             1| 17.1| 8410454|                   0|       1099267200|1669507200|           8|\n",
            "|   240|  1|  1|    1|            96|      103720|       9.99|          9.99|     0.0|         1|      0|    0|             1| 17.7|14114625|                   0|       1099267200|1672185600|           8|\n",
            "|   440|  1|  1|    1|            93|      985819|        0.0|           0.0|     0.0|         1|      0|    0|             0|288.1| 4194515|                   0|       1191974400|1467936000|           7|\n",
            "|   440|  1|  1|    1|            93|      985819|        0.0|           0.0|     0.0|         1|      0|    0|             0|325.6| 9327664|                   0|       1191974400|1557964800|           7|\n",
            "|   440|  1|  1|    1|            93|      985819|        0.0|           0.0|     0.0|         1|      0|    0|             0|642.0| 8890660|                   0|       1191974400|1635724800|           7|\n",
            "|   440|  1|  1|    1|            93|      985819|        0.0|           0.0|     0.0|         1|      0|    0|             1|104.7| 2508391|                   0|       1191974400|1636761600|           7|\n",
            "|   440|  1|  1|    1|            93|      985819|        0.0|           0.0|     0.0|         1|      0|    0|             1|177.2|11998850|                   0|       1191974400|1635206400|           7|\n",
            "|   440|  1|  1|    1|            93|      985819|        0.0|           0.0|     0.0|         1|      0|    0|             1|305.5| 3110660|                   0|       1191974400|1646438400|           7|\n",
            "|   440|  1|  1|    1|            93|      985819|        0.0|           0.0|     0.0|         1|      0|    0|             1|440.0| 3026505|                   0|       1191974400|1663113600|           7|\n",
            "|   440|  1|  1|    1|            93|      985819|        0.0|           0.0|     0.0|         1|      0|    0|             1|687.1| 1925045|                   0|       1191974400|1617580800|           7|\n",
            "|   440|  1|  1|    1|            93|      985819|        0.0|           0.0|     0.0|         1|      0|    0|             1|776.6| 1915736|                   0|       1191974400|1498953600|           7|\n",
            "|   440|  1|  1|    1|            93|      985819|        0.0|           0.0|     0.0|         1|      3|    0|             1|148.0|12033944|                   0|       1191974400|1422921600|           7|\n",
            "|   440|  1|  1|    1|            93|      985819|        0.0|           0.0|     0.0|         1|      3|    0|             1|323.0| 4330002|                   0|       1191974400|1453593600|           7|\n",
            "|   440|  1|  1|    1|            93|      985819|        0.0|           0.0|     0.0|         1|      3|    0|             1|669.7| 6293618|                   0|       1191974400|1434067200|           7|\n",
            "|   440|  1|  1|    1|            93|      985819|        0.0|           0.0|     0.0|         1|      3|    3|             1|508.7|14152945|                   0|       1191974400|1480291200|           7|\n",
            "|   440|  1|  1|    1|            93|      985819|        0.0|           0.0|     0.0|         1|      4|    0|             0|178.3|11108420|                   0|       1191974400|1572652800|           7|\n",
            "|   440|  1|  1|    1|            93|      985819|        0.0|           0.0|     0.0|         1|      4|    0|             0|343.5|11702284|                   0|       1191974400|1317600000|           7|\n",
            "|   440|  1|  1|    1|            93|      985819|        0.0|           0.0|     0.0|         1|      4|    0|             0|687.6| 9709491|                   0|       1191974400|1606348800|           7|\n",
            "|   440|  1|  1|    1|            93|      985819|        0.0|           0.0|     0.0|         1|      4|    0|             0|975.3|11826658|                   0|       1191974400|1573084800|           7|\n",
            "|   440|  1|  1|    1|            93|      985819|        0.0|           0.0|     0.0|         1|      4|    0|             1|  3.8| 2128552|                   0|       1191974400|1606089600|           7|\n",
            "+------+---+---+-----+--------------+------------+-----------+--------------+--------+----------+-------+-----+--------------+-----+--------+--------------------+-----------------+----------+------------+\n",
            "only showing top 20 rows\n",
            "\n"
          ]
        }
      ]
    },
    {
      "cell_type": "code",
      "source": [
        "train_data.show()"
      ],
      "metadata": {
        "colab": {
          "base_uri": "https://localhost:8080/"
        },
        "id": "IsSfZIL9VvWl",
        "outputId": "67f9e7ee-11a7-46dd-ae51-a8dd5078d78a"
      },
      "execution_count": null,
      "outputs": [
        {
          "output_type": "stream",
          "name": "stdout",
          "text": [
            "+------+---+---+-----+--------------+------------+-----------+--------------+--------+----------+-------+-----+--------------+-----+--------+--------------------+-----------------+----------+------------+\n",
            "|app_id|win|mac|linux|positive_ratio|user_reviews|price_final|price_original|discount|steam_deck|helpful|funny|is_recommended|hours| user_id|rating_Very Negative|date_release_unix| date_unix|rating_value|\n",
            "+------+---+---+-----+--------------+------------+-----------+--------------+--------+----------+-------+-----+--------------+-----+--------+--------------------+-----------------+----------+------------+\n",
            "|   240|  1|  1|    1|            96|      103720|       9.99|          9.99|     0.0|         1|      0|    0|             1|  0.1| 2465369|                   0|       1099267200|1669161600|           8|\n",
            "|   240|  1|  1|    1|            96|      103720|       9.99|          9.99|     0.0|         1|      0|    0|             1|  0.4| 9635973|                   0|       1099267200|1669248000|           8|\n",
            "|   240|  1|  1|    1|            96|      103720|       9.99|          9.99|     0.0|         1|      0|    0|             1|  0.6| 8788023|                   0|       1099267200|1669593600|           8|\n",
            "|   240|  1|  1|    1|            96|      103720|       9.99|          9.99|     0.0|         1|      0|    0|             1|  0.7| 3780283|                   0|       1099267200|1669248000|           8|\n",
            "|   240|  1|  1|    1|            96|      103720|       9.99|          9.99|     0.0|         1|      0|    0|             1|  0.9| 1444558|                   0|       1099267200|1669593600|           8|\n",
            "|   240|  1|  1|    1|            96|      103720|       9.99|          9.99|     0.0|         1|      0|    0|             1|  2.2|12291197|                   0|       1099267200|1669593600|           8|\n",
            "|   240|  1|  1|    1|            96|      103720|       9.99|          9.99|     0.0|         1|      0|    0|             1|  3.4| 9691594|                   0|       1099267200|1672444800|           8|\n",
            "|   240|  1|  1|    1|            96|      103720|       9.99|          9.99|     0.0|         1|      0|    0|             1|  5.4|12326061|                   0|       1099267200|1670025600|           8|\n",
            "|   240|  1|  1|    1|            96|      103720|       9.99|          9.99|     0.0|         1|      0|    0|             1|  6.5|  809177|                   0|       1099267200|1672099200|           8|\n",
            "|   240|  1|  1|    1|            96|      103720|       9.99|          9.99|     0.0|         1|      0|    0|             1| 10.8| 2174604|                   0|       1099267200|1669075200|           8|\n",
            "|   240|  1|  1|    1|            96|      103720|       9.99|          9.99|     0.0|         1|      0|    0|             1| 13.1| 4226121|                   0|       1099267200|1669161600|           8|\n",
            "|   240|  1|  1|    1|            96|      103720|       9.99|          9.99|     0.0|         1|      0|    0|             1| 14.6| 4376185|                   0|       1099267200|1672099200|           8|\n",
            "|   240|  1|  1|    1|            96|      103720|       9.99|          9.99|     0.0|         1|      0|    0|             1| 19.0|13418417|                   0|       1099267200|1669161600|           8|\n",
            "|   240|  1|  1|    1|            96|      103720|       9.99|          9.99|     0.0|         1|      0|    0|             1| 28.0| 3048861|                   0|       1099267200|1672444800|           8|\n",
            "|   240|  1|  1|    1|            96|      103720|       9.99|          9.99|     0.0|         1|      0|    0|             1|294.7| 3214739|                   0|       1099267200|1669420800|           8|\n",
            "|   240|  1|  1|    1|            96|      103720|       9.99|          9.99|     0.0|         1|      0|    0|             1|484.2| 3754721|                   0|       1099267200|1670803200|           8|\n",
            "|   440|  1|  1|    1|            93|      985819|        0.0|           0.0|     0.0|         1|      0|    0|             0|  7.3| 1525203|                   0|       1191974400|1600560000|           7|\n",
            "|   440|  1|  1|    1|            93|      985819|        0.0|           0.0|     0.0|         1|      0|    0|             0| 23.3|10454063|                   0|       1191974400|1539043200|           7|\n",
            "|   440|  1|  1|    1|            93|      985819|        0.0|           0.0|     0.0|         1|      0|    0|             0| 89.5|11726448|                   0|       1191974400|1399852800|           7|\n",
            "|   440|  1|  1|    1|            93|      985819|        0.0|           0.0|     0.0|         1|      0|    0|             0|139.0| 6283763|                   0|       1191974400|1594252800|           7|\n",
            "+------+---+---+-----+--------------+------------+-----------+--------------+--------+----------+-------+-----+--------------+-----+--------+--------------------+-----------------+----------+------------+\n",
            "only showing top 20 rows\n",
            "\n"
          ]
        }
      ]
    },
    {
      "cell_type": "code",
      "source": [
        "user_id = 2465369\n",
        "user_recs = model.recommendForUserSubset(spark.createDataFrame([[user_id]], [\"user_id\"]), numItems=5).collect()\n",
        "\n",
        "# Check if recommendations are available for the user\n",
        "if user_recs:\n",
        "    recommendations = user_recs[0]['recommendations']\n",
        "    print(\"Rec for user:\")\n",
        "    for rec in recommendations:\n",
        "        print(rec)\n",
        "else:\n",
        "    print(\"No recommendations found for the user.\")\n"
      ],
      "metadata": {
        "colab": {
          "base_uri": "https://localhost:8080/"
        },
        "id": "0Z508O5Y40Xa",
        "outputId": "cfa5231c-bf0c-4d59-d5b4-9d7304796bc4"
      },
      "execution_count": null,
      "outputs": [
        {
          "output_type": "stream",
          "name": "stdout",
          "text": [
            "No recommendations found for the user.\n"
          ]
        }
      ]
    },
    {
      "cell_type": "code",
      "source": [
        "user_ids = [2465369, 12326061, 1525203, 6283763, 11726448, 10454063, 3754721, 3214739]\n",
        "all_user_recs = []\n",
        "\n",
        "for user_id in user_ids:\n",
        "    user_recs = model.recommendForUserSubset(spark.createDataFrame([[user_id]], [\"user_id\"]), numItems=5).collect()\n",
        "\n",
        "    # Check if recommendations are available for the user\n",
        "    if user_recs:\n",
        "        recommendations = user_recs[0]['recommendations']\n",
        "        all_user_recs.append({\"user_id\": user_id, \"recommendations\": recommendations})\n",
        "    else:\n",
        "        all_user_recs.append({\"user_id\": user_id, \"recommendations\": None})\n",
        "\n",
        "# Print recommendations for all users\n",
        "for user_rec in all_user_recs:\n",
        "    print(f\"Rec for user {user_rec['user_id']}:\")\n",
        "    if user_rec['recommendations']:\n",
        "        for rec in user_rec['recommendations']:\n",
        "            print(rec)\n",
        "    else:\n",
        "        print(\"No recommendations found for the user.\")\n"
      ],
      "metadata": {
        "colab": {
          "base_uri": "https://localhost:8080/"
        },
        "id": "7CkBK8ilDTyL",
        "outputId": "23985ea3-5dbd-4ef0-b0b6-803bfd246df2"
      },
      "execution_count": null,
      "outputs": [
        {
          "output_type": "stream",
          "name": "stdout",
          "text": [
            "Rec for user 2465369:\n",
            "No recommendations found for the user.\n",
            "Rec for user 12326061:\n",
            "Row(app_id=1109130, rating=17.59348487854004)\n",
            "Row(app_id=1552680, rating=16.858224868774414)\n",
            "Row(app_id=1243130, rating=16.77493667602539)\n",
            "Row(app_id=1701560, rating=16.772016525268555)\n",
            "Row(app_id=1740850, rating=16.391664505004883)\n",
            "Rec for user 1525203:\n",
            "Row(app_id=1243130, rating=16.317975997924805)\n",
            "Row(app_id=1422630, rating=15.465693473815918)\n",
            "Row(app_id=1679220, rating=15.369559288024902)\n",
            "Row(app_id=1646580, rating=14.985128402709961)\n",
            "Row(app_id=1770390, rating=14.853643417358398)\n",
            "Rec for user 6283763:\n",
            "No recommendations found for the user.\n",
            "Rec for user 11726448:\n",
            "Row(app_id=1243130, rating=16.317975997924805)\n",
            "Row(app_id=1422630, rating=15.465693473815918)\n",
            "Row(app_id=1679220, rating=15.369559288024902)\n",
            "Row(app_id=1646580, rating=14.985128402709961)\n",
            "Row(app_id=1770390, rating=14.853643417358398)\n",
            "Rec for user 10454063:\n",
            "No recommendations found for the user.\n",
            "Rec for user 3754721:\n",
            "No recommendations found for the user.\n",
            "Rec for user 3214739:\n",
            "No recommendations found for the user.\n"
          ]
        }
      ]
    },
    {
      "cell_type": "code",
      "source": [
        "for user_rec in all_user_recs:\n",
        "    print(f\"Rec for user {user_rec['user_id']}:\")\n",
        "    if user_rec['recommendations']:\n",
        "        # Fetch game titles for each recommendation\n",
        "        game_titles = [games_df.filter(games_df.app_id == rec['app_id']).select('title').collect()[0]['title'] for rec in user_rec['recommendations']]\n",
        "\n",
        "        # Print the game titles\n",
        "        for title in game_titles:\n",
        "            print(title)\n",
        "    else:\n",
        "        print(\"No recommendations found for the user.\")"
      ],
      "metadata": {
        "colab": {
          "base_uri": "https://localhost:8080/"
        },
        "id": "NjlDIILHctYx",
        "outputId": "9a7464dc-c1f1-4b15-ae24-3abbcf584c83"
      },
      "execution_count": null,
      "outputs": [
        {
          "output_type": "stream",
          "name": "stdout",
          "text": [
            "Rec for user 2465369:\n",
            "No recommendations found for the user.\n",
            "Rec for user 12326061:\n",
            "逝去的回忆3：四叶草之梦\n",
            "Escape FishStop 3D\n",
            "Nimbatus - Drone Creator\n",
            "RUINSMAGUS\n",
            "角斗士学院（Gladiator School）\n",
            "Rec for user 1525203:\n"
          ]
        }
      ]
    },
    {
      "cell_type": "code",
      "source": [],
      "metadata": {
        "id": "uB8LH-z0dEWE"
      },
      "execution_count": null,
      "outputs": []
    }
  ]
}